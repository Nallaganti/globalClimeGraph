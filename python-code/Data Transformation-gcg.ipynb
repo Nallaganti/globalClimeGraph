{
 "cells": [
  {
   "cell_type": "code",
   "execution_count": 0,
   "metadata": {
    "application/vnd.databricks.v1+cell": {
     "cellMetadata": {
      "byteLimit": 2048000,
      "rowLimit": 10000
     },
     "inputWidgets": {},
     "nuid": "012975a6-2b58-4e1f-9f06-6c8b8f14f779",
     "showTitle": false,
     "tableResultSettingsMap": {},
     "title": ""
    }
   },
   "outputs": [],
   "source": [
    "from pyspark.sql.functions import col, when, count, isnan, lag,round, lit\n",
    "from pyspark.sql.window import Window"
   ]
  },
  {
   "cell_type": "code",
   "execution_count": 0,
   "metadata": {
    "application/vnd.databricks.v1+cell": {
     "cellMetadata": {
      "byteLimit": 2048000,
      "rowLimit": 10000
     },
     "inputWidgets": {},
     "nuid": "4ff4e265-7bb4-48c2-a599-275600ac31f9",
     "showTitle": false,
     "tableResultSettingsMap": {},
     "title": ""
    }
   },
   "outputs": [
    {
     "output_type": "stream",
     "name": "stdout",
     "output_type": "stream",
     "text": [
      "/mnt/gcg-data has been unmounted.\n"
     ]
    },
    {
     "output_type": "execute_result",
     "data": {
      "text/plain": [
       "True"
      ]
     },
     "execution_count": 178,
     "metadata": {},
     "output_type": "execute_result"
    }
   ],
   "source": [
    "dbutils.fs.unmount(\"/mnt/gcg-data\"); \n",
    "dbutils.fs.mount(source = \"wasbs://gcganalysisdatalake@<storage-account>.blob.core.windows.net/\", \n",
    "                 mount_point = \"/mnt/data\",\n",
    "                 \"fs.azure.account.key.<storage-account>.blob.core.windows.net\", \"<storage-account-key>\")"
   ]
  },
  {
   "cell_type": "code",
   "execution_count": 0,
   "metadata": {
    "application/vnd.databricks.v1+cell": {
     "cellMetadata": {
      "byteLimit": 2048000,
      "rowLimit": 10000
     },
     "inputWidgets": {},
     "nuid": "8a7e9cc4-0e41-47fe-92fc-b47cac814694",
     "showTitle": false,
     "tableResultSettingsMap": {},
     "title": ""
    }
   },
   "outputs": [
    {
     "output_type": "execute_result",
     "data": {
      "text/plain": [
       "[FileInfo(path='dbfs:/mnt/gcg-data/raw-data/', name='raw-data/', size=0, modificationTime=0)]"
      ]
     },
     "execution_count": 179,
     "metadata": {},
     "output_type": "execute_result"
    }
   ],
   "source": [
    "dbutils.fs.ls(\"/mnt/gcg-data\")"
   ]
  },
  {
   "cell_type": "code",
   "execution_count": 0,
   "metadata": {
    "application/vnd.databricks.v1+cell": {
     "cellMetadata": {
      "byteLimit": 2048000,
      "rowLimit": 10000
     },
     "inputWidgets": {},
     "nuid": "d1eb43e1-9baa-4ccd-953d-fec6c0b9dab0",
     "showTitle": false,
     "tableResultSettingsMap": {},
     "title": ""
    }
   },
   "outputs": [
    {
     "output_type": "execute_result",
     "data": {
      "text/html": [
       "\n",
       "            <div>\n",
       "                <p><b>SparkSession - hive</b></p>\n",
       "                \n",
       "        <div>\n",
       "            <p><b>SparkContext</b></p>\n",
       "\n",
       "            <p><a href=\"/?o=1402529862341051#setting/sparkui/0123-154324-nry37xdq/driver-3360911185884801845\">Spark UI</a></p>\n",
       "\n",
       "            <dl>\n",
       "              <dt>Version</dt>\n",
       "                <dd><code>v3.5.0</code></dd>\n",
       "              <dt>Master</dt>\n",
       "                <dd><code>local[*, 4]</code></dd>\n",
       "              <dt>AppName</dt>\n",
       "                <dd><code>Databricks Shell</code></dd>\n",
       "            </dl>\n",
       "        </div>\n",
       "        \n",
       "            </div>\n",
       "        "
      ],
      "text/plain": [
       "<pyspark.sql.session.SparkSession at 0x7f17d9320510>"
      ]
     },
     "execution_count": 180,
     "metadata": {},
     "output_type": "execute_result"
    }
   ],
   "source": [
    "spark"
   ]
  },
  {
   "cell_type": "code",
   "execution_count": 0,
   "metadata": {
    "application/vnd.databricks.v1+cell": {
     "cellMetadata": {
      "byteLimit": 2048000,
      "rowLimit": 10000
     },
     "inputWidgets": {},
     "nuid": "de01d187-5c54-4360-989b-986066dc6931",
     "showTitle": false,
     "tableResultSettingsMap": {},
     "title": ""
    }
   },
   "outputs": [
    {
     "output_type": "display_data",
     "data": {
      "text/plain": [
       "\u001B[0;31m---------------------------------------------------------------------------\u001B[0m\n",
       "\u001B[0;31mAnalysisException\u001B[0m                         Traceback (most recent call last)\n",
       "File \u001B[0;32m<command-4730312714984602>, line 1\u001B[0m\n",
       "\u001B[0;32m----> 1\u001B[0m rawData \u001B[38;5;241m=\u001B[39m spark\u001B[38;5;241m.\u001B[39mread\u001B[38;5;241m.\u001B[39mformat(\u001B[38;5;124m\"\u001B[39m\u001B[38;5;124mcsv\u001B[39m\u001B[38;5;124m\"\u001B[39m)\u001B[38;5;241m.\u001B[39moption(\u001B[38;5;124m\"\u001B[39m\u001B[38;5;124mheader\u001B[39m\u001B[38;5;124m\"\u001B[39m, \u001B[38;5;124m\"\u001B[39m\u001B[38;5;124mtrue\u001B[39m\u001B[38;5;124m\"\u001B[39m)\u001B[38;5;241m.\u001B[39moption(\u001B[38;5;124m\"\u001B[39m\u001B[38;5;124minferSchema\u001B[39m\u001B[38;5;124m\"\u001B[39m, \u001B[38;5;124m\"\u001B[39m\u001B[38;5;124mtrue\u001B[39m\u001B[38;5;124m\"\u001B[39m)\u001B[38;5;241m.\u001B[39mload(\u001B[38;5;124m\"\u001B[39m\u001B[38;5;124m/mnt/data-gcg/raw-data/gcg-rawdata-1900-2023\u001B[39m\u001B[38;5;124m\"\u001B[39m)\n",
       "\n",
       "File \u001B[0;32m/databricks/spark/python/pyspark/instrumentation_utils.py:47\u001B[0m, in \u001B[0;36m_wrap_function.<locals>.wrapper\u001B[0;34m(*args, **kwargs)\u001B[0m\n",
       "\u001B[1;32m     45\u001B[0m start \u001B[38;5;241m=\u001B[39m time\u001B[38;5;241m.\u001B[39mperf_counter()\n",
       "\u001B[1;32m     46\u001B[0m \u001B[38;5;28;01mtry\u001B[39;00m:\n",
       "\u001B[0;32m---> 47\u001B[0m     res \u001B[38;5;241m=\u001B[39m func(\u001B[38;5;241m*\u001B[39margs, \u001B[38;5;241m*\u001B[39m\u001B[38;5;241m*\u001B[39mkwargs)\n",
       "\u001B[1;32m     48\u001B[0m     logger\u001B[38;5;241m.\u001B[39mlog_success(\n",
       "\u001B[1;32m     49\u001B[0m         module_name, class_name, function_name, time\u001B[38;5;241m.\u001B[39mperf_counter() \u001B[38;5;241m-\u001B[39m start, signature\n",
       "\u001B[1;32m     50\u001B[0m     )\n",
       "\u001B[1;32m     51\u001B[0m     \u001B[38;5;28;01mreturn\u001B[39;00m res\n",
       "\n",
       "File \u001B[0;32m/databricks/spark/python/pyspark/sql/readwriter.py:312\u001B[0m, in \u001B[0;36mDataFrameReader.load\u001B[0;34m(self, path, format, schema, **options)\u001B[0m\n",
       "\u001B[1;32m    310\u001B[0m \u001B[38;5;28mself\u001B[39m\u001B[38;5;241m.\u001B[39moptions(\u001B[38;5;241m*\u001B[39m\u001B[38;5;241m*\u001B[39moptions)\n",
       "\u001B[1;32m    311\u001B[0m \u001B[38;5;28;01mif\u001B[39;00m \u001B[38;5;28misinstance\u001B[39m(path, \u001B[38;5;28mstr\u001B[39m):\n",
       "\u001B[0;32m--> 312\u001B[0m     \u001B[38;5;28;01mreturn\u001B[39;00m \u001B[38;5;28mself\u001B[39m\u001B[38;5;241m.\u001B[39m_df(\u001B[38;5;28mself\u001B[39m\u001B[38;5;241m.\u001B[39m_jreader\u001B[38;5;241m.\u001B[39mload(path))\n",
       "\u001B[1;32m    313\u001B[0m \u001B[38;5;28;01melif\u001B[39;00m path \u001B[38;5;129;01mis\u001B[39;00m \u001B[38;5;129;01mnot\u001B[39;00m \u001B[38;5;28;01mNone\u001B[39;00m:\n",
       "\u001B[1;32m    314\u001B[0m     \u001B[38;5;28;01mif\u001B[39;00m \u001B[38;5;28mtype\u001B[39m(path) \u001B[38;5;241m!=\u001B[39m \u001B[38;5;28mlist\u001B[39m:\n",
       "\n",
       "File \u001B[0;32m/databricks/spark/python/lib/py4j-0.10.9.7-src.zip/py4j/java_gateway.py:1355\u001B[0m, in \u001B[0;36mJavaMember.__call__\u001B[0;34m(self, *args)\u001B[0m\n",
       "\u001B[1;32m   1349\u001B[0m command \u001B[38;5;241m=\u001B[39m proto\u001B[38;5;241m.\u001B[39mCALL_COMMAND_NAME \u001B[38;5;241m+\u001B[39m\\\n",
       "\u001B[1;32m   1350\u001B[0m     \u001B[38;5;28mself\u001B[39m\u001B[38;5;241m.\u001B[39mcommand_header \u001B[38;5;241m+\u001B[39m\\\n",
       "\u001B[1;32m   1351\u001B[0m     args_command \u001B[38;5;241m+\u001B[39m\\\n",
       "\u001B[1;32m   1352\u001B[0m     proto\u001B[38;5;241m.\u001B[39mEND_COMMAND_PART\n",
       "\u001B[1;32m   1354\u001B[0m answer \u001B[38;5;241m=\u001B[39m \u001B[38;5;28mself\u001B[39m\u001B[38;5;241m.\u001B[39mgateway_client\u001B[38;5;241m.\u001B[39msend_command(command)\n",
       "\u001B[0;32m-> 1355\u001B[0m return_value \u001B[38;5;241m=\u001B[39m get_return_value(\n",
       "\u001B[1;32m   1356\u001B[0m     answer, \u001B[38;5;28mself\u001B[39m\u001B[38;5;241m.\u001B[39mgateway_client, \u001B[38;5;28mself\u001B[39m\u001B[38;5;241m.\u001B[39mtarget_id, \u001B[38;5;28mself\u001B[39m\u001B[38;5;241m.\u001B[39mname)\n",
       "\u001B[1;32m   1358\u001B[0m \u001B[38;5;28;01mfor\u001B[39;00m temp_arg \u001B[38;5;129;01min\u001B[39;00m temp_args:\n",
       "\u001B[1;32m   1359\u001B[0m     \u001B[38;5;28;01mif\u001B[39;00m \u001B[38;5;28mhasattr\u001B[39m(temp_arg, \u001B[38;5;124m\"\u001B[39m\u001B[38;5;124m_detach\u001B[39m\u001B[38;5;124m\"\u001B[39m):\n",
       "\n",
       "File \u001B[0;32m/databricks/spark/python/pyspark/errors/exceptions/captured.py:261\u001B[0m, in \u001B[0;36mcapture_sql_exception.<locals>.deco\u001B[0;34m(*a, **kw)\u001B[0m\n",
       "\u001B[1;32m    257\u001B[0m converted \u001B[38;5;241m=\u001B[39m convert_exception(e\u001B[38;5;241m.\u001B[39mjava_exception)\n",
       "\u001B[1;32m    258\u001B[0m \u001B[38;5;28;01mif\u001B[39;00m \u001B[38;5;129;01mnot\u001B[39;00m \u001B[38;5;28misinstance\u001B[39m(converted, UnknownException):\n",
       "\u001B[1;32m    259\u001B[0m     \u001B[38;5;66;03m# Hide where the exception came from that shows a non-Pythonic\u001B[39;00m\n",
       "\u001B[1;32m    260\u001B[0m     \u001B[38;5;66;03m# JVM exception message.\u001B[39;00m\n",
       "\u001B[0;32m--> 261\u001B[0m     \u001B[38;5;28;01mraise\u001B[39;00m converted \u001B[38;5;28;01mfrom\u001B[39;00m \u001B[38;5;28;01mNone\u001B[39;00m\n",
       "\u001B[1;32m    262\u001B[0m \u001B[38;5;28;01melse\u001B[39;00m:\n",
       "\u001B[1;32m    263\u001B[0m     \u001B[38;5;28;01mraise\u001B[39;00m\n",
       "\n",
       "\u001B[0;31mAnalysisException\u001B[0m: [PATH_NOT_FOUND] Path does not exist: dbfs:/mnt/data-gcg/raw-data/gcg-rawdata-1900-2023. SQLSTATE: 42K03"
      ]
     },
     "metadata": {
      "application/vnd.databricks.v1+output": {
       "addedWidgets": {},
       "arguments": {},
       "datasetInfos": [],
       "jupyterProps": {
        "ename": "AnalysisException",
        "evalue": "[PATH_NOT_FOUND] Path does not exist: dbfs:/mnt/data-gcg/raw-data/gcg-rawdata-1900-2023. SQLSTATE: 42K03"
       },
       "metadata": {
        "errorSummary": "[PATH_NOT_FOUND] Path does not exist: dbfs:/mnt/data-gcg/raw-data/gcg-rawdata-1900-2023. SQLSTATE: 42K03"
       },
       "removedWidgets": [],
       "sqlProps": {
        "errorClass": "PATH_NOT_FOUND",
        "pysparkCallSite": null,
        "pysparkFragment": null,
        "sqlState": "42K03",
        "stackTrace": null,
        "startIndex": null,
        "stopIndex": null
       },
       "stackFrames": [
        "\u001B[0;31m---------------------------------------------------------------------------\u001B[0m",
        "\u001B[0;31mAnalysisException\u001B[0m                         Traceback (most recent call last)",
        "File \u001B[0;32m<command-4730312714984602>, line 1\u001B[0m\n\u001B[0;32m----> 1\u001B[0m rawData \u001B[38;5;241m=\u001B[39m spark\u001B[38;5;241m.\u001B[39mread\u001B[38;5;241m.\u001B[39mformat(\u001B[38;5;124m\"\u001B[39m\u001B[38;5;124mcsv\u001B[39m\u001B[38;5;124m\"\u001B[39m)\u001B[38;5;241m.\u001B[39moption(\u001B[38;5;124m\"\u001B[39m\u001B[38;5;124mheader\u001B[39m\u001B[38;5;124m\"\u001B[39m, \u001B[38;5;124m\"\u001B[39m\u001B[38;5;124mtrue\u001B[39m\u001B[38;5;124m\"\u001B[39m)\u001B[38;5;241m.\u001B[39moption(\u001B[38;5;124m\"\u001B[39m\u001B[38;5;124minferSchema\u001B[39m\u001B[38;5;124m\"\u001B[39m, \u001B[38;5;124m\"\u001B[39m\u001B[38;5;124mtrue\u001B[39m\u001B[38;5;124m\"\u001B[39m)\u001B[38;5;241m.\u001B[39mload(\u001B[38;5;124m\"\u001B[39m\u001B[38;5;124m/mnt/data-gcg/raw-data/gcg-rawdata-1900-2023\u001B[39m\u001B[38;5;124m\"\u001B[39m)\n",
        "File \u001B[0;32m/databricks/spark/python/pyspark/instrumentation_utils.py:47\u001B[0m, in \u001B[0;36m_wrap_function.<locals>.wrapper\u001B[0;34m(*args, **kwargs)\u001B[0m\n\u001B[1;32m     45\u001B[0m start \u001B[38;5;241m=\u001B[39m time\u001B[38;5;241m.\u001B[39mperf_counter()\n\u001B[1;32m     46\u001B[0m \u001B[38;5;28;01mtry\u001B[39;00m:\n\u001B[0;32m---> 47\u001B[0m     res \u001B[38;5;241m=\u001B[39m func(\u001B[38;5;241m*\u001B[39margs, \u001B[38;5;241m*\u001B[39m\u001B[38;5;241m*\u001B[39mkwargs)\n\u001B[1;32m     48\u001B[0m     logger\u001B[38;5;241m.\u001B[39mlog_success(\n\u001B[1;32m     49\u001B[0m         module_name, class_name, function_name, time\u001B[38;5;241m.\u001B[39mperf_counter() \u001B[38;5;241m-\u001B[39m start, signature\n\u001B[1;32m     50\u001B[0m     )\n\u001B[1;32m     51\u001B[0m     \u001B[38;5;28;01mreturn\u001B[39;00m res\n",
        "File \u001B[0;32m/databricks/spark/python/pyspark/sql/readwriter.py:312\u001B[0m, in \u001B[0;36mDataFrameReader.load\u001B[0;34m(self, path, format, schema, **options)\u001B[0m\n\u001B[1;32m    310\u001B[0m \u001B[38;5;28mself\u001B[39m\u001B[38;5;241m.\u001B[39moptions(\u001B[38;5;241m*\u001B[39m\u001B[38;5;241m*\u001B[39moptions)\n\u001B[1;32m    311\u001B[0m \u001B[38;5;28;01mif\u001B[39;00m \u001B[38;5;28misinstance\u001B[39m(path, \u001B[38;5;28mstr\u001B[39m):\n\u001B[0;32m--> 312\u001B[0m     \u001B[38;5;28;01mreturn\u001B[39;00m \u001B[38;5;28mself\u001B[39m\u001B[38;5;241m.\u001B[39m_df(\u001B[38;5;28mself\u001B[39m\u001B[38;5;241m.\u001B[39m_jreader\u001B[38;5;241m.\u001B[39mload(path))\n\u001B[1;32m    313\u001B[0m \u001B[38;5;28;01melif\u001B[39;00m path \u001B[38;5;129;01mis\u001B[39;00m \u001B[38;5;129;01mnot\u001B[39;00m \u001B[38;5;28;01mNone\u001B[39;00m:\n\u001B[1;32m    314\u001B[0m     \u001B[38;5;28;01mif\u001B[39;00m \u001B[38;5;28mtype\u001B[39m(path) \u001B[38;5;241m!=\u001B[39m \u001B[38;5;28mlist\u001B[39m:\n",
        "File \u001B[0;32m/databricks/spark/python/lib/py4j-0.10.9.7-src.zip/py4j/java_gateway.py:1355\u001B[0m, in \u001B[0;36mJavaMember.__call__\u001B[0;34m(self, *args)\u001B[0m\n\u001B[1;32m   1349\u001B[0m command \u001B[38;5;241m=\u001B[39m proto\u001B[38;5;241m.\u001B[39mCALL_COMMAND_NAME \u001B[38;5;241m+\u001B[39m\\\n\u001B[1;32m   1350\u001B[0m     \u001B[38;5;28mself\u001B[39m\u001B[38;5;241m.\u001B[39mcommand_header \u001B[38;5;241m+\u001B[39m\\\n\u001B[1;32m   1351\u001B[0m     args_command \u001B[38;5;241m+\u001B[39m\\\n\u001B[1;32m   1352\u001B[0m     proto\u001B[38;5;241m.\u001B[39mEND_COMMAND_PART\n\u001B[1;32m   1354\u001B[0m answer \u001B[38;5;241m=\u001B[39m \u001B[38;5;28mself\u001B[39m\u001B[38;5;241m.\u001B[39mgateway_client\u001B[38;5;241m.\u001B[39msend_command(command)\n\u001B[0;32m-> 1355\u001B[0m return_value \u001B[38;5;241m=\u001B[39m get_return_value(\n\u001B[1;32m   1356\u001B[0m     answer, \u001B[38;5;28mself\u001B[39m\u001B[38;5;241m.\u001B[39mgateway_client, \u001B[38;5;28mself\u001B[39m\u001B[38;5;241m.\u001B[39mtarget_id, \u001B[38;5;28mself\u001B[39m\u001B[38;5;241m.\u001B[39mname)\n\u001B[1;32m   1358\u001B[0m \u001B[38;5;28;01mfor\u001B[39;00m temp_arg \u001B[38;5;129;01min\u001B[39;00m temp_args:\n\u001B[1;32m   1359\u001B[0m     \u001B[38;5;28;01mif\u001B[39;00m \u001B[38;5;28mhasattr\u001B[39m(temp_arg, \u001B[38;5;124m\"\u001B[39m\u001B[38;5;124m_detach\u001B[39m\u001B[38;5;124m\"\u001B[39m):\n",
        "File \u001B[0;32m/databricks/spark/python/pyspark/errors/exceptions/captured.py:261\u001B[0m, in \u001B[0;36mcapture_sql_exception.<locals>.deco\u001B[0;34m(*a, **kw)\u001B[0m\n\u001B[1;32m    257\u001B[0m converted \u001B[38;5;241m=\u001B[39m convert_exception(e\u001B[38;5;241m.\u001B[39mjava_exception)\n\u001B[1;32m    258\u001B[0m \u001B[38;5;28;01mif\u001B[39;00m \u001B[38;5;129;01mnot\u001B[39;00m \u001B[38;5;28misinstance\u001B[39m(converted, UnknownException):\n\u001B[1;32m    259\u001B[0m     \u001B[38;5;66;03m# Hide where the exception came from that shows a non-Pythonic\u001B[39;00m\n\u001B[1;32m    260\u001B[0m     \u001B[38;5;66;03m# JVM exception message.\u001B[39;00m\n\u001B[0;32m--> 261\u001B[0m     \u001B[38;5;28;01mraise\u001B[39;00m converted \u001B[38;5;28;01mfrom\u001B[39;00m \u001B[38;5;28;01mNone\u001B[39;00m\n\u001B[1;32m    262\u001B[0m \u001B[38;5;28;01melse\u001B[39;00m:\n\u001B[1;32m    263\u001B[0m     \u001B[38;5;28;01mraise\u001B[39;00m\n",
        "\u001B[0;31mAnalysisException\u001B[0m: [PATH_NOT_FOUND] Path does not exist: dbfs:/mnt/data-gcg/raw-data/gcg-rawdata-1900-2023. SQLSTATE: 42K03"
       ],
       "type": "baseError"
      }
     },
     "output_type": "display_data"
    }
   ],
   "source": [
    "rawData = spark.read.format(\"csv\").option(\"header\", \"true\").option(\"inferSchema\", \"true\").load(\"/mnt/data-gcg/gcg-rawdata-1900-2023\")"
   ]
  },
  {
   "cell_type": "code",
   "execution_count": 0,
   "metadata": {
    "application/vnd.databricks.v1+cell": {
     "cellMetadata": {
      "byteLimit": 2048000,
      "rowLimit": 10000
     },
     "inputWidgets": {},
     "nuid": "432565a0-c136-491d-83db-c963b63aaa0d",
     "showTitle": false,
     "tableResultSettingsMap": {},
     "title": ""
    }
   },
   "outputs": [
    {
     "output_type": "stream",
     "name": "stdout",
     "output_type": "stream",
     "text": [
      "+----+-------------------------------+-----------------------+-------------------+-----------------------------+\n|Year|Global Average Temperature (°C)|CO2 Concentration (ppm)|Sea Level Rise (mm)|Arctic Ice Area (million km²)|\n+----+-------------------------------+-----------------------+-------------------+-----------------------------+\n|1948|                          13.17|                 397.04|             116.25|                         5.97|\n|1996|                           13.1|                 313.17|             277.92|                         9.66|\n|2015|                          14.67|                 311.95|             290.32|                          8.4|\n|1966|                          14.79|                 304.25|             189.71|                        11.83|\n|1992|                          13.15|                 354.52|              14.84|                        11.23|\n+----+-------------------------------+-----------------------+-------------------+-----------------------------+\nonly showing top 5 rows\n\n"
     ]
    }
   ],
   "source": [
    "rawData.show(5)"
   ]
  },
  {
   "cell_type": "code",
   "execution_count": 0,
   "metadata": {
    "application/vnd.databricks.v1+cell": {
     "cellMetadata": {
      "byteLimit": 2048000,
      "rowLimit": 10000
     },
     "inputWidgets": {},
     "nuid": "7331fd96-8169-4ab1-b9c5-fe14e3cedd27",
     "showTitle": false,
     "tableResultSettingsMap": {},
     "title": ""
    }
   },
   "outputs": [
    {
     "output_type": "stream",
     "name": "stdout",
     "output_type": "stream",
     "text": [
      "root\n |-- Year: integer (nullable = true)\n |-- Global Average Temperature (°C): double (nullable = true)\n |-- CO2 Concentration (ppm): double (nullable = true)\n |-- Sea Level Rise (mm): double (nullable = true)\n |-- Arctic Ice Area (million km²): double (nullable = true)\n\n"
     ]
    }
   ],
   "source": [
    "rawData.printSchema()"
   ]
  },
  {
   "cell_type": "code",
   "execution_count": 0,
   "metadata": {
    "application/vnd.databricks.v1+cell": {
     "cellMetadata": {
      "byteLimit": 2048000,
      "rowLimit": 10000
     },
     "inputWidgets": {},
     "nuid": "2e5260be-ccba-444b-a7fd-a4fbf6de6556",
     "showTitle": false,
     "tableResultSettingsMap": {},
     "title": ""
    }
   },
   "outputs": [],
   "source": [
    "# null_year_count = rawData.filter(col(\"year\").isNull()).count()\n",
    "# print(null_year_count)"
   ]
  },
  {
   "cell_type": "code",
   "execution_count": 0,
   "metadata": {
    "application/vnd.databricks.v1+cell": {
     "cellMetadata": {
      "byteLimit": 2048000,
      "rowLimit": 10000
     },
     "inputWidgets": {},
     "nuid": "fbe63926-1754-468e-81d4-847dcace3386",
     "showTitle": false,
     "tableResultSettingsMap": {},
     "title": ""
    }
   },
   "outputs": [
    {
     "output_type": "stream",
     "name": "stdout",
     "output_type": "stream",
     "text": [
      "+----+-------------------------------+-----------------------+-------------------+-----------------------------+\n|Year|Global Average Temperature (°C)|CO2 Concentration (ppm)|Sea Level Rise (mm)|Arctic Ice Area (million km²)|\n+----+-------------------------------+-----------------------+-------------------+-----------------------------+\n|   0|                              0|                      0|                  0|                            0|\n+----+-------------------------------+-----------------------+-------------------+-----------------------------+\n\n"
     ]
    }
   ],
   "source": [
    "rawData.select([count(when(isnan(c) | col(c).isNull(), c)).alias(c) for c in rawData.columns]\n",
    "   ).show()\n"
   ]
  },
  {
   "cell_type": "code",
   "execution_count": 0,
   "metadata": {
    "application/vnd.databricks.v1+cell": {
     "cellMetadata": {
      "byteLimit": 2048000,
      "rowLimit": 10000
     },
     "inputWidgets": {},
     "nuid": "f1104a51-c632-4f8d-948d-d1a306afbe5e",
     "showTitle": false,
     "tableResultSettingsMap": {},
     "title": ""
    }
   },
   "outputs": [],
   "source": [
    "# rawData.where(col(\"Year\") == '1900').count()"
   ]
  },
  {
   "cell_type": "code",
   "execution_count": 0,
   "metadata": {
    "application/vnd.databricks.v1+cell": {
     "cellMetadata": {
      "byteLimit": 2048000,
      "rowLimit": 10000
     },
     "inputWidgets": {},
     "nuid": "021f9b7f-e4eb-452a-8e6c-6956caa015cf",
     "showTitle": false,
     "tableResultSettingsMap": {},
     "title": ""
    }
   },
   "outputs": [
    {
     "output_type": "stream",
     "name": "stdout",
     "output_type": "stream",
     "text": [
      "+----+---------+------------------------------------+----------------------------+------------------------+----------------------------------+\n|Year|avg(Year)|avg(Global Average Temperature (°C))|avg(CO2 Concentration (ppm))|avg(Sea Level Rise (mm))|avg(Arctic Ice Area (million km²))|\n+----+---------+------------------------------------+----------------------------+------------------------+----------------------------------+\n|1900|   1900.0|                  14.506663070837831|          350.37340524991026|      150.40828838547287|                 8.978658755843231|\n|1901|   1901.0|                  14.485342725227884|          349.75713981295127|      150.54882798626747|                 8.947272404403929|\n+----+---------+------------------------------------+----------------------------+------------------------+----------------------------------+\nonly showing top 2 rows\n\n"
     ]
    }
   ],
   "source": [
    "avgByYear = rawData.groupBy(\"Year\").avg()\n",
    "avgByYear = avgByYear.orderBy(\"Year\")\n",
    "avgByYear.show(2)"
   ]
  },
  {
   "cell_type": "code",
   "execution_count": 0,
   "metadata": {
    "application/vnd.databricks.v1+cell": {
     "cellMetadata": {
      "byteLimit": 2048000,
      "rowLimit": 10000
     },
     "inputWidgets": {},
     "nuid": "be413070-d450-474e-adbc-f68d8d15acbc",
     "showTitle": false,
     "tableResultSettingsMap": {},
     "title": ""
    }
   },
   "outputs": [
    {
     "output_type": "display_data",
     "data": {
      "text/html": [
       "<style scoped>\n",
       "  .table-result-container {\n",
       "    max-height: 300px;\n",
       "    overflow: auto;\n",
       "  }\n",
       "  table, th, td {\n",
       "    border: 1px solid black;\n",
       "    border-collapse: collapse;\n",
       "  }\n",
       "  th, td {\n",
       "    padding: 5px;\n",
       "  }\n",
       "  th {\n",
       "    text-align: left;\n",
       "  }\n",
       "</style><div class='table-result-container'><table class='table-result'><thead style='background-color: white'><tr><th>Year</th><th>Avg_GlobalTemperature</th><th>Avg_CO2Concentration</th><th>Avg_SeaLevelRise</th><th>Avg_ArcticIceArea</th></tr></thead><tbody><tr><td>1900.0</td><td>14.506663070837831</td><td>350.37340524991026</td><td>150.40828838547287</td><td>8.978658755843231</td></tr><tr><td>1901.0</td><td>14.485342725227884</td><td>349.75713981295127</td><td>150.54882798626747</td><td>8.947272404403929</td></tr><tr><td>1902.0</td><td>14.47626190196308</td><td>349.2996861408254</td><td>152.1748207358646</td><td>9.03555424944164</td></tr><tr><td>1903.0</td><td>14.492360062327705</td><td>349.64437492508654</td><td>150.1383375284669</td><td>9.056501258540099</td></tr><tr><td>1904.0</td><td>14.494240694493993</td><td>349.53703175169466</td><td>150.6673183493875</td><td>8.990690926388393</td></tr></tbody></table></div>"
      ]
     },
     "metadata": {
      "application/vnd.databricks.v1+output": {
       "addedWidgets": {},
       "aggData": [],
       "aggError": "",
       "aggOverflow": false,
       "aggSchema": [],
       "aggSeriesLimitReached": false,
       "aggType": "",
       "arguments": {},
       "columnCustomDisplayInfos": {},
       "data": [
        [
         1900.0,
         14.506663070837831,
         350.37340524991026,
         150.40828838547287,
         8.978658755843231
        ],
        [
         1901.0,
         14.485342725227884,
         349.75713981295127,
         150.54882798626747,
         8.947272404403929
        ],
        [
         1902.0,
         14.47626190196308,
         349.2996861408254,
         152.1748207358646,
         9.03555424944164
        ],
        [
         1903.0,
         14.492360062327705,
         349.64437492508654,
         150.1383375284669,
         9.056501258540099
        ],
        [
         1904.0,
         14.494240694493993,
         349.53703175169466,
         150.6673183493875,
         8.990690926388393
        ]
       ],
       "datasetInfos": [],
       "dbfsResultPath": null,
       "isJsonSchema": true,
       "metadata": {},
       "overflow": false,
       "plotOptions": {
        "customPlotOptions": {},
        "displayType": "table",
        "pivotAggregation": null,
        "pivotColumns": null,
        "xColumns": null,
        "yColumns": null
       },
       "removedWidgets": [],
       "schema": [
        {
         "metadata": "{}",
         "name": "Year",
         "type": "\"double\""
        },
        {
         "metadata": "{}",
         "name": "Avg_GlobalTemperature",
         "type": "\"double\""
        },
        {
         "metadata": "{}",
         "name": "Avg_CO2Concentration",
         "type": "\"double\""
        },
        {
         "metadata": "{}",
         "name": "Avg_SeaLevelRise",
         "type": "\"double\""
        },
        {
         "metadata": "{}",
         "name": "Avg_ArcticIceArea",
         "type": "\"double\""
        }
       ],
       "type": "table"
      }
     },
     "output_type": "display_data"
    }
   ],
   "source": [
    "avgByYear = avgByYear.select(\n",
    "    avgByYear[\"avg(Year)\"].alias(\"Year\"),\n",
    "    avgByYear[\"avg(Global Average Temperature (°C))\"].alias(\"Avg_GlobalTemperature\"),\n",
    "    avgByYear[\"avg(CO2 Concentration (ppm))\"].alias(\"Avg_CO2Concentration\"),\n",
    "    avgByYear[\"avg(Sea Level Rise (mm))\"].alias(\"Avg_SeaLevelRise\"),\n",
    "    avgByYear[\"avg(Arctic Ice Area (million km²))\"].alias(\"Avg_ArcticIceArea\")\n",
    ")\n",
    "avgByYear = avgByYear.orderBy(\"Year\")\n",
    "display(avgByYear.limit(5))"
   ]
  },
  {
   "cell_type": "code",
   "execution_count": 0,
   "metadata": {
    "application/vnd.databricks.v1+cell": {
     "cellMetadata": {
      "byteLimit": 2048000,
      "rowLimit": 10000
     },
     "inputWidgets": {},
     "nuid": "3a2c6ba4-7916-4e42-8a29-af45d6a1a5c5",
     "showTitle": false,
     "tableResultSettingsMap": {},
     "title": ""
    }
   },
   "outputs": [
    {
     "output_type": "stream",
     "name": "stdout",
     "output_type": "stream",
     "text": [
      "+------+---------------------+--------------------+------------------+-----------------+-------------------+-------------------------+-------------------------+--------------------------+\n|  Year|Avg_GlobalTemperature|Avg_CO2Concentration|  Avg_SeaLevelRise|Avg_ArcticIceArea|   YOYAvgCo2 change|YOYAvgSeaLevelRise change|YOYAvgTemperature  change|YOYAvgArcticIceArea change|\n+------+---------------------+--------------------+------------------+-----------------+-------------------+-------------------------+-------------------------+--------------------------+\n|1900.0|   14.506663070837831|  350.37340524991026|150.40828838547287|8.978658755843231| 350.37340524991026|       150.40828838547287|       14.506663070837831|         8.978658755843231|\n|1901.0|   14.485342725227884|  349.75713981295127|150.54882798626747|8.947272404403929|-0.6162654369589973|       0.1405396007945967|     -0.02132034560994711|      -0.03138635143930202|\n+------+---------------------+--------------------+------------------+-----------------+-------------------+-------------------------+-------------------------+--------------------------+\nonly showing top 2 rows\n\n"
     ]
    }
   ],
   "source": [
    "# Year over year change in CO2 concentration\n",
    "YOYDF = avgByYear.withColumn(\"YOYAvgCo2 change\", col(\"Avg_CO2Concentration\")- lag(\"Avg_CO2Concentration\", 1,0).over(Window.orderBy(\"Year\")))\n",
    "\n",
    "# Year over year SeaLevelRise change in \n",
    "YOYDF = YOYDF.withColumn(\"YOYAvgSeaLevelRise change\", col(\"Avg_SeaLevelRise\")- lag(\"Avg_SeaLevelRise\", 1,0).over(Window.orderBy(\"Year\")))\n",
    "\n",
    "# Year over year SeaLevelRise change in \n",
    "YOYDF = YOYDF.withColumn(\"YOYAvgTemperature  change\", col(\"Avg_GlobalTemperature\")- lag(\"Avg_GlobalTemperature\", 1,0).over(Window.orderBy(\"Year\")))\n",
    "\n",
    "# Year over year Arctic Ice Area change\n",
    "YOYDF = YOYDF.withColumn(\"YOYAvgArcticIceArea change\", col(\"Avg_ArcticIceArea\")- lag(\"Avg_ArcticIceArea\", 1,0).over(Window.orderBy(\"Year\")))\n",
    "\n",
    "YOYDF.show(2)"
   ]
  },
  {
   "cell_type": "code",
   "execution_count": 0,
   "metadata": {
    "application/vnd.databricks.v1+cell": {
     "cellMetadata": {
      "byteLimit": 2048000,
      "rowLimit": 10000
     },
     "inputWidgets": {},
     "nuid": "43caea04-ccf2-4d13-bf74-3d15c762e81d",
     "showTitle": false,
     "tableResultSettingsMap": {},
     "title": ""
    }
   },
   "outputs": [
    {
     "output_type": "display_data",
     "data": {
      "text/html": [
       "<style scoped>\n",
       "  .table-result-container {\n",
       "    max-height: 300px;\n",
       "    overflow: auto;\n",
       "  }\n",
       "  table, th, td {\n",
       "    border: 1px solid black;\n",
       "    border-collapse: collapse;\n",
       "  }\n",
       "  th, td {\n",
       "    padding: 5px;\n",
       "  }\n",
       "  th {\n",
       "    text-align: left;\n",
       "  }\n",
       "</style><div class='table-result-container'><table class='table-result'><thead style='background-color: white'><tr><th>Year</th><th>Avg_GlobalTemperature</th><th>Avg_CO2Concentration</th><th>Avg_SeaLevelRise</th><th>Avg_ArcticIceArea</th><th>YOYAvgCo2 change</th><th>YOYAvgSeaLevelRise change</th><th>YOYAvgTemperature  change</th><th>YOYAvgArcticIceArea change</th></tr></thead><tbody><tr><td>1900.0</td><td>14.506663070837831</td><td>350.37340524991026</td><td>150.40828838547287</td><td>8.978658755843231</td><td>0.0</td><td>0.0</td><td>0.0</td><td>0.0</td></tr><tr><td>1901.0</td><td>14.485342725227884</td><td>349.75713981295127</td><td>150.54882798626747</td><td>8.947272404403929</td><td>-0.6162654369589973</td><td>0.1405396007945967</td><td>-0.02132034560994711</td><td>-0.03138635143930202</td></tr><tr><td>1902.0</td><td>14.47626190196308</td><td>349.2996861408254</td><td>152.1748207358646</td><td>9.03555424944164</td><td>-0.4574536721258937</td><td>1.6259927495971453</td><td>-0.00908082326480475</td><td>0.08828184503771119</td></tr><tr><td>1903.0</td><td>14.492360062327705</td><td>349.64437492508654</td><td>150.1383375284669</td><td>9.056501258540099</td><td>0.3446887842611659</td><td>-2.0364832073977084</td><td>0.01609816036462597</td><td>0.02094700909845848</td></tr><tr><td>1904.0</td><td>14.494240694493993</td><td>349.53703175169466</td><td>150.6673183493875</td><td>8.990690926388393</td><td>-0.10734317339188237</td><td>0.5289808209205944</td><td>0.0018806321662871994</td><td>-0.06581033215170606</td></tr><tr><td>1905.0</td><td>14.48622227465785</td><td>349.76851698914595</td><td>150.27739971684747</td><td>9.000759792354875</td><td>0.23148523745129523</td><td>-0.3899186325400308</td><td>-0.008018419836142598</td><td>0.010068865966482932</td></tr><tr><td>1906.0</td><td>14.50161015948021</td><td>350.2692876550503</td><td>148.9720945067927</td><td>8.95512817483756</td><td>0.5007706659043265</td><td>-1.3053052100547688</td><td>0.015387884822359865</td><td>-0.045631617517315703</td></tr><tr><td>1907.0</td><td>14.507351928783379</td><td>349.70745163204737</td><td>149.4286302670623</td><td>8.962523442136497</td><td>-0.5618360230029111</td><td>0.4565357602695883</td><td>0.005741769303169164</td><td>0.007395267298937469</td></tr><tr><td>1908.0</td><td>14.489931636020753</td><td>349.90853842527093</td><td>149.75017916077329</td><td>8.944291607732207</td><td>0.20108679322356693</td><td>0.3215488937109967</td><td>-0.017420292762626133</td><td>-0.01823183440428977</td></tr><tr><td>1909.0</td><td>14.524319831421211</td><td>349.47765745726997</td><td>149.0916892999298</td><td>9.020469445094825</td><td>-0.4308809680009631</td><td>-0.6584898608434742</td><td>0.03438819540045834</td><td>0.07617783736261785</td></tr><tr><td>1910.0</td><td>14.498871545843466</td><td>349.3040825528962</td><td>149.03968782518223</td><td>9.032927506070067</td><td>-0.17357490437376555</td><td>-0.0520014747475841</td><td>-0.025448285577745366</td><td>0.01245806097524138</td></tr><tr><td>1911.0</td><td>14.500951593860684</td><td>350.0229362455726</td><td>148.5995383707201</td><td>9.052127508854792</td><td>0.7188536926764186</td><td>-0.44014945446213005</td><td>0.0020800480172180613</td><td>0.019200002784725</td></tr><tr><td>1912.0</td><td>14.48462780482015</td><td>349.59773239938266</td><td>148.5005484981599</td><td>9.042417191024583</td><td>-0.42520384618995877</td><td>-0.09898987256019609</td><td>-0.01632378904053411</td><td>-0.009710317830208481</td></tr><tr><td>1913.0</td><td>14.515579853437242</td><td>349.8980039548679</td><td>148.05174828428508</td><td>9.03783878097011</td><td>0.30027155548521023</td><td>-0.4488002138748186</td><td>0.030952048617091776</td><td>-0.00457841005447257</td></tr><tr><td>1914.0</td><td>14.496110911486422</td><td>350.20513714217253</td><td>148.4231081566655</td><td>9.001814588573469</td><td>0.30713318730465744</td><td>0.3713598723804239</td><td>-0.019468941950819385</td><td>-0.03602419239664201</td></tr><tr><td>1915.0</td><td>14.50218790218791</td><td>349.48147654147675</td><td>150.07087165087168</td><td>8.961532701532708</td><td>-0.72366060069578</td><td>1.647763494206174</td><td>0.0060769907014872615</td><td>-0.04028188704076108</td></tr><tr><td>1916.0</td><td>14.484808030996826</td><td>350.2527450980389</td><td>149.10727955852985</td><td>8.991458259950686</td><td>0.77126855656212</td><td>-0.9635920923418269</td><td>-0.01737987119108375</td><td>0.029925558417978948</td></tr><tr><td>1917.0</td><td>14.52091760299626</td><td>350.21844335206</td><td>151.8363050093632</td><td>8.99397705992509</td><td>-0.034301745978893905</td><td>2.7290254508333476</td><td>0.03610957199943421</td><td>0.0025187999744034073</td></tr><tr><td>1918.0</td><td>14.496760679726227</td><td>350.5119176303991</td><td>152.33301274486655</td><td>9.03561364172763</td><td>0.2934742783391471</td><td>0.49670773550334957</td><td>-0.024156923270032493</td><td>0.04163658180254082</td></tr><tr><td>1919.0</td><td>14.504868451961473</td><td>350.6690216114632</td><td>149.05235377026085</td><td>8.987317359642951</td><td>0.15710398106409684</td><td>-3.2806589746057</td><td>0.008107772235245392</td><td>-0.04829628208467973</td></tr><tr><td>1920.0</td><td>14.490945023356089</td><td>350.1388226134863</td><td>151.16636124086708</td><td>9.046906216313335</td><td>-0.5301989979769246</td><td>2.114007470606225</td><td>-0.013923428605384203</td><td>0.05958885667038416</td></tr><tr><td>1921.0</td><td>14.500930860429618</td><td>350.0613311421534</td><td>149.88289822749152</td><td>9.039323864303324</td><td>-0.07749147133290535</td><td>-1.2834630133755525</td><td>0.009985837073529069</td><td>-0.0075823520100115616</td></tr><tr><td>1922.0</td><td>14.507355499940417</td><td>349.63446311524245</td><td>149.50865689429156</td><td>9.002739840305086</td><td>-0.42686802691093817</td><td>-0.37424133319996145</td><td>0.0064246395107989684</td><td>-0.03658402399823757</td></tr><tr><td>1923.0</td><td>14.489327274873123</td><td>349.9698524725602</td><td>150.117566387348</td><td>9.027730437861418</td><td>0.33538935731775155</td><td>0.6089094930564443</td><td>-0.018028225067293846</td><td>0.02499059755633226</td></tr><tr><td>1924.0</td><td>14.5025366603595</td><td>350.677081362346</td><td>150.14051797540213</td><td>9.004997634815512</td><td>0.7072288897857675</td><td>0.022951588054127114</td><td>0.013209385486376846</td><td>-0.022732803045906635</td></tr><tr><td>1925.0</td><td>14.495334213368531</td><td>350.7113248529943</td><td>148.52775471018856</td><td>9.025459018360737</td><td>0.034243490648350416</td><td>-1.612763265213573</td><td>-0.00720244699096817</td><td>0.020461383545224976</td></tr><tr><td>1926.0</td><td>14.503453777569225</td><td>350.79023111215366</td><td>151.57127404974185</td><td>9.014436884091973</td><td>0.07890625915933924</td><td>3.043519339553285</td><td>0.00811956420069393</td><td>-0.01102213426876375</td></tr><tr><td>1927.0</td><td>14.494511003883733</td><td>350.4885100623752</td><td>151.08424149699894</td><td>8.982912792750378</td><td>-0.3017210497784504</td><td>-0.48703255274290314</td><td>-0.0089427736854919</td><td>-0.03152409134159484</td></tr><tr><td>1928.0</td><td>14.491039697542524</td><td>350.20761342154975</td><td>150.38311909262774</td><td>9.01359877126654</td><td>-0.2808966408254605</td><td>-0.7011224043712048</td><td>-0.0034713063412095124</td><td>0.030685978516162393</td></tr><tr><td>1929.0</td><td>14.513484757199667</td><td>349.8914953608868</td><td>150.8823689601157</td><td>9.061172430413302</td><td>-0.31611806066297277</td><td>0.4992498674879755</td><td>0.022445059657142608</td><td>0.047573659146761926</td></tr><tr><td>1930.0</td><td>14.50363669107936</td><td>350.6861952215155</td><td>150.35553247688793</td><td>8.988947052467273</td><td>0.7946998606287252</td><td>-0.5268364832277825</td><td>-0.009848066120307308</td><td>-0.07222537794602957</td></tr><tr><td>1931.0</td><td>14.512552637804573</td><td>349.6550390347766</td><td>149.33021528270632</td><td>9.00315117104329</td><td>-1.0311561867388832</td><td>-1.0253171941816106</td><td>0.008915946725213786</td><td>0.014204118576017777</td></tr><tr><td>1932.0</td><td>14.494287110568113</td><td>350.2687403787415</td><td>150.56996212584002</td><td>8.945748320097744</td><td>0.6137013439648626</td><td>1.2397468431337018</td><td>-0.018265527236460244</td><td>-0.057402850945546646</td></tr><tr><td>1933.0</td><td>14.49931703303161</td><td>350.6723709885972</td><td>152.67194428118032</td><td>9.052710708828027</td><td>0.40363060985572474</td><td>2.101982155340295</td><td>0.005029922463497982</td><td>0.10696238873028285</td></tr><tr><td>1934.0</td><td>14.505952009598078</td><td>350.23961367726446</td><td>150.71839832033584</td><td>8.978915416916612</td><td>-0.4327573113327503</td><td>-1.9535459608444796</td><td>0.0066349765664668325</td><td>-0.07379529191141465</td></tr><tr><td>1935.0</td><td>14.483445984648878</td><td>349.13115935387776</td><td>151.84313552526075</td><td>8.975418719211826</td><td>-1.1084543233866953</td><td>1.1247372049249122</td><td>-0.022506024949199954</td><td>-0.0034966977047865555</td></tr><tr><td>1936.0</td><td>14.499120125180546</td><td>349.4600180548871</td><td>148.93047905633125</td><td>9.041178382282151</td><td>0.3288587010093238</td><td>-2.912656468929498</td><td>0.015674140531668712</td><td>0.06575966307032566</td></tr><tr><td>1937.0</td><td>14.49404949911608</td><td>349.75320447849174</td><td>148.52256334708306</td><td>8.948656452563355</td><td>0.2931864236046522</td><td>-0.40791570924818643</td><td>-0.005070626064465955</td><td>-0.0925219297187958</td></tr><tr><td>1938.0</td><td>14.48671104882037</td><td>350.73019037608003</td><td>150.16143190843258</td><td>8.988537724830646</td><td>0.9769858975882926</td><td>1.6388685613495113</td><td>-0.0073384502957107856</td><td>0.03988127226729077</td></tr><tr><td>1939.0</td><td>14.503416061812224</td><td>349.7836162491218</td><td>150.40019784593792</td><td>9.029222664481388</td><td>-0.9465741269582395</td><td>0.2387659375053488</td><td>0.016705012991854673</td><td>0.040684939650741825</td></tr><tr><td>1940.0</td><td>14.50395693611013</td><td>349.51550300035296</td><td>148.31593481586074</td><td>8.959990587127889</td><td>-0.26811324876882736</td><td>-2.0842630300771816</td><td>5.408742979060577E-4</td><td>-0.06923207735349912</td></tr><tr><td>1941.0</td><td>14.489725281374803</td><td>350.59263705675914</td><td>149.78996006293107</td><td>8.979158901125494</td><td>1.0771340564061802</td><td>1.4740252470703297</td><td>-0.014231654735327837</td><td>0.019168313997605324</td></tr><tr><td>1942.0</td><td>14.524255243088657</td><td>350.0009294566249</td><td>149.58429218303155</td><td>9.034495948522409</td><td>-0.5917076001342707</td><td>-0.20566787989952218</td><td>0.03452996171385436</td><td>0.055337047396914585</td></tr><tr><td>1943.0</td><td>14.491954405129418</td><td>350.02018760389456</td><td>150.4471040132985</td><td>8.99141296604133</td><td>0.019258147269681558</td><td>0.8628118302669634</td><td>-0.032300837959239104</td><td>-0.04308298248107967</td></tr><tr><td>1944.0</td><td>14.499474554256704</td><td>350.4186491911683</td><td>149.8993812728776</td><td>9.041880977683315</td><td>0.3984615872737436</td><td>-0.5477227404209088</td><td>0.0075201491272860466</td><td>0.050468011641985555</td></tr><tr><td>1945.0</td><td>14.507748027731283</td><td>350.59748744919904</td><td>149.50953382739658</td><td>9.019802773129326</td><td>0.17883825803073705</td><td>-0.3898474454810241</td><td>0.008273473474579518</td><td>-0.022078204553988456</td></tr><tr><td>1946.0</td><td>14.488129084967303</td><td>350.0484617180208</td><td>152.21701680672265</td><td>8.98339402427638</td><td>-0.549025731178233</td><td>2.7074829793260733</td><td>-0.01961894276398013</td><td>-0.03640874885294565</td></tr><tr><td>1947.0</td><td>14.499223415555283</td><td>349.7637873244424</td><td>150.3937896848816</td><td>9.042623627994809</td><td>-0.2846743935784275</td><td>-1.8232271218410574</td><td>0.011094330587980039</td><td>0.059229603718428336</td></tr><tr><td>1948.0</td><td>14.491501677852359</td><td>349.94834491850435</td><td>151.56951342281886</td><td>8.99441874400766</td><td>0.18455759406197103</td><td>1.1757237379372611</td><td>-0.007721737702924614</td><td>-0.048204883987148506</td></tr><tr><td>1949.0</td><td>14.50321951219513</td><td>349.3115121951216</td><td>149.54117189314758</td><td>8.992439024390244</td><td>-0.6368327233827245</td><td>-2.0283415296712803</td><td>0.011717834342771738</td><td>-0.0019797196174167198</td></tr><tr><td>1950.0</td><td>14.501623476511652</td><td>350.32285883327484</td><td>150.67365755531898</td><td>8.998157614483507</td><td>1.0113466381532135</td><td>1.1324856621714048</td><td>-0.0015960356834785472</td><td>0.005718590093263032</td></tr><tr><td>1951.0</td><td>14.513514967259116</td><td>350.36489593077664</td><td>150.0231478016837</td><td>9.045122778297483</td><td>0.04203709750180451</td><td>-0.6505097536352764</td><td>0.011891490747464317</td><td>0.04696516381397586</td></tr><tr><td>1952.0</td><td>14.516505624629973</td><td>350.2757525162819</td><td>150.97799644760192</td><td>9.043557134399057</td><td>-0.0891434144947425</td><td>0.9548486459182186</td><td>0.0029906573708569084</td><td>-0.0015656438984255061</td></tr><tr><td>1953.0</td><td>14.509908355153545</td><td>349.82862175672454</td><td>151.86128540823617</td><td>9.016150916448465</td><td>-0.4471307595573535</td><td>0.8832889606342462</td><td>-0.006597269476428025</td><td>-0.027406217950591838</td></tr><tr><td>1954.0</td><td>14.509060505790606</td><td>349.563911604822</td><td>150.05598440085078</td><td>8.992657764121956</td><td>-0.2647101519025341</td><td>-1.8053010073853955</td><td>-8.478493629393569E-4</td><td>-0.023493152326508948</td></tr><tr><td>1955.0</td><td>14.497287755343013</td><td>349.8519081355528</td><td>150.55711654268498</td><td>9.055518951470061</td><td>0.2879965307307657</td><td>0.501132141834205</td><td>-0.011772750447592628</td><td>0.06286118734810486</td></tr><tr><td>1956.0</td><td>14.503879289940828</td><td>349.5832520710054</td><td>149.13801656804742</td><td>8.989075739644964</td><td>-0.2686560645473719</td><td>-1.419099974637561</td><td>0.006591534597815141</td><td>-0.06644321182509749</td></tr><tr><td>1957.0</td><td>14.504969317771629</td><td>350.69842858861733</td><td>148.83356756106363</td><td>8.972880519793048</td><td>1.1151765176119284</td><td>-0.30444900698378774</td><td>0.0010900278308003664</td><td>-0.016195219851915965</td></tr><tr><td>1958.0</td><td>14.509557260920884</td><td>349.5025419126332</td><td>148.62773789846526</td><td>9.01343919716647</td><td>-1.1958866759841271</td><td>-0.20582966259837576</td><td>0.00458794314925548</td><td>0.040558677373422114</td></tr><tr><td>1959.0</td><td>14.51397813190648</td><td>349.67175758985724</td><td>151.05542514830748</td><td>9.019459113644295</td><td>0.16921567722403097</td><td>2.427687249842222</td><td>0.004420870985596181</td><td>0.006019916477825404</td></tr><tr><td>1960.0</td><td>14.511935099021715</td><td>349.8665938916728</td><td>149.40610116917196</td><td>9.009893820090669</td><td>0.1948363018155419</td><td>-1.6493239791355165</td><td>-0.0020430328847655943</td><td>-0.00956529355362612</td></tr><tr><td>1961.0</td><td>14.495286913925835</td><td>350.48859575460733</td><td>149.9367436435736</td><td>8.984505481688823</td><td>0.6220018629345532</td><td>0.5306424744016454</td><td>-0.016648185095879953</td><td>-0.02538833840184651</td></tr><tr><td>1962.0</td><td>14.522149732620326</td><td>350.1343279857394</td><td>150.49833511586456</td><td>9.083378490790247</td><td>-0.35426776886794187</td><td>0.5615914722909565</td><td>0.026862818694491253</td><td>0.09887300910142471</td></tr><tr><td>1963.0</td><td>14.498212329565309</td><td>350.0018774035667</td><td>151.20587460668918</td><td>8.916108845122944</td><td>-0.13245058217268024</td><td>0.7075394908246153</td><td>-0.023937403055017015</td><td>-0.16726964566730373</td></tr><tr><td>1964.0</td><td>14.492454363443638</td><td>349.9692262395473</td><td>149.172711105877</td><td>8.96699328700977</td><td>-0.03265116401939849</td><td>-2.0331635008121793</td><td>-0.005757966121670677</td><td>0.050884441886825726</td></tr><tr><td>1965.0</td><td>14.496187983343251</td><td>350.38228673408685</td><td>149.4137132659131</td><td>9.024437834622251</td><td>0.4130604945395362</td><td>0.2410021600360892</td><td>0.003733619899612961</td><td>0.057444547612481855</td></tr><tr><td>1966.0</td><td>14.503252558522513</td><td>350.3777896718031</td><td>152.62733796023986</td><td>8.979303611339837</td><td>-0.0044970622837468</td><td>3.213624694326768</td><td>0.007064575179262178</td><td>-0.0451342232824139</td></tr><tr><td>1967.0</td><td>14.49062038580613</td><td>349.4579685639435</td><td>149.6843403191236</td><td>8.975152417242198</td><td>-0.9198211078596046</td><td>-2.94299764111625</td><td>-0.012632172716383394</td><td>-0.004151194097639532</td></tr><tr><td>1968.0</td><td>14.49744379391101</td><td>349.3615585480095</td><td>149.8309274004682</td><td>8.980688524590159</td><td>-0.09641001593399778</td><td>0.14658708134459175</td><td>0.006823408104880357</td><td>0.00553610734796095</td></tr><tr><td>1969.0</td><td>14.5131468117828</td><td>349.69414054181954</td><td>150.43970897906067</td><td>9.026194250561925</td><td>0.33258199381003806</td><td>0.6087815785924704</td><td>0.015703017871789626</td><td>0.04550572597176661</td></tr><tr><td>1970.0</td><td>14.503818507462688</td><td>350.0902065671639</td><td>149.16593074626869</td><td>9.026955223880604</td><td>0.3960660253443393</td><td>-1.273778232791983</td><td>-0.009328304320112224</td><td>7.609733186786372E-4</td></tr><tr><td>1971.0</td><td>14.504212445594623</td><td>350.66225502882014</td><td>149.85345724032481</td><td>8.968437830843431</td><td>0.5720484616562658</td><td>0.6875264940561294</td><td>3.9393813193555616E-4</td><td>-0.05851739303717274</td></tr><tr><td>1972.0</td><td>14.503443092340719</td><td>349.7973514674303</td><td>148.998711524696</td><td>8.999111190646625</td><td>-0.8649035613898377</td><td>-0.854745715628809</td><td>-7.693532539043701E-4</td><td>0.030673359803193634</td></tr><tr><td>1973.0</td><td>14.500222727817023</td><td>349.4575990899292</td><td>148.71420787929597</td><td>8.984516824332399</td><td>-0.33975237750109955</td><td>-0.2845036454000365</td><td>-0.0032203645236954515</td><td>-0.014594366314225837</td></tr><tr><td>1974.0</td><td>14.506717357728421</td><td>349.5668112153976</td><td>149.60424498039663</td><td>8.997913745990262</td><td>0.10921212546838888</td><td>0.8900371011006598</td><td>0.006494629911397709</td><td>0.013396921657863103</td></tr><tr><td>1975.0</td><td>14.48257863849766</td><td>349.7370093896713</td><td>149.2066666666667</td><td>9.013739436619721</td><td>0.17019817427370754</td><td>-0.39757831372992314</td><td>-0.02413871923076094</td><td>0.015825690629458933</td></tr><tr><td>1976.0</td><td>14.500529956618585</td><td>350.90082072927623</td><td>149.9609977723062</td><td>8.946507210692927</td><td>1.1638113396049334</td><td>0.7543311056394941</td><td>0.017951318120925208</td><td>-0.06723222592679434</td></tr><tr><td>1977.0</td><td>14.498762825101402</td><td>350.36347291815815</td><td>149.8627189214985</td><td>9.035875685993792</td><td>-0.5373478111180816</td><td>-0.09827885080770216</td><td>-0.0017671315171838842</td><td>0.08936847530086567</td></tr><tr><td>1978.0</td><td>14.483972859148336</td><td>350.5655135704255</td><td>151.62002690687868</td><td>8.945451567618152</td><td>0.20204065226732837</td><td>1.75730798538018</td><td>-0.014789965953065476</td><td>-0.09042411837564046</td></tr><tr><td>1979.0</td><td>14.504710958742164</td><td>349.477030381842</td><td>151.42110414942667</td><td>8.96047050478779</td><td>-1.0884831885834956</td><td>-0.19892275745201005</td><td>0.020738099593827997</td><td>0.015018937169637425</td></tr><tr><td>1980.0</td><td>14.504480488951575</td><td>350.2503326281147</td><td>151.08196755994345</td><td>9.10161142454161</td><td>0.7733022462726922</td><td>-0.3391365894832177</td><td>-2.3046979058882755E-4</td><td>0.1411409197538216</td></tr><tr><td>1981.0</td><td>14.504588516746413</td><td>350.09155861244017</td><td>148.37661842105277</td><td>8.893453349282295</td><td>-0.15877401567450988</td><td>-2.705349138890682</td><td>1.0802779483753966E-4</td><td>-0.20815807525931618</td></tr><tr><td>1982.0</td><td>14.49236660314436</td><td>349.71825750357317</td><td>149.54565507384453</td><td>8.959648642210581</td><td>-0.37330110886699686</td><td>1.1690366527917604</td><td>-0.012221913602052936</td><td>0.06619529292828652</td></tr><tr><td>1983.0</td><td>14.504210079961235</td><td>349.5635861400533</td><td>149.3152798643083</td><td>9.044645020596068</td><td>-0.1546713635198671</td><td>-0.23037520953621993</td><td>0.011843476816874698</td><td>0.08499637838548679</td></tr><tr><td>1984.0</td><td>14.490802625518182</td><td>349.74309189313703</td><td>150.2739751266697</td><td>9.028748272685402</td><td>0.17950575308373118</td><td>0.9586952623614025</td><td>-0.013407454443052913</td><td>-0.01589674791066642</td></tr><tr><td>1985.0</td><td>14.482652005174645</td><td>349.6843455251088</td><td>148.4067705515698</td><td>9.015121721745269</td><td>-0.05874636802820987</td><td>-1.8672045750999189</td><td>-0.008150620343537085</td><td>-0.013626550940132987</td></tr><tr><td>1986.0</td><td>14.497171357321003</td><td>350.11001187507435</td><td>150.25718441990261</td><td>8.992929580809871</td><td>0.42566634996552466</td><td>1.8504138683328222</td><td>0.014519352146358244</td><td>-0.02219214093539712</td></tr><tr><td>1987.0</td><td>14.489355673133465</td><td>350.5952416225749</td><td>149.59424103468547</td><td>9.032305702527927</td><td>0.48522974750056846</td><td>-0.6629433852171474</td><td>-0.007815684187537641</td><td>0.039376121718055046</td></tr><tr><td>1988.0</td><td>14.509555475676983</td><td>350.25530793194355</td><td>151.23495327102813</td><td>8.978478312964297</td><td>-0.33993369063136925</td><td>1.6407122363426652</td><td>0.02019980254351772</td><td>-0.053827389563629424</td></tr><tr><td>1989.0</td><td>14.48778513961192</td><td>350.2149479413157</td><td>149.30798390913387</td><td>8.956940369143394</td><td>-0.040359990627848674</td><td>-1.9269693618942654</td><td>-0.021770336065062068</td><td>-0.021537943820902683</td></tr><tr><td>1990.0</td><td>14.495707130932496</td><td>350.8317469592178</td><td>150.10111495349398</td><td>8.981904364416891</td><td>0.6167990179021103</td><td>0.7931310443601092</td><td>0.007921991320575472</td><td>0.02496399527349702</td></tr><tr><td>1991.0</td><td>14.501762203049276</td><td>349.43324784304485</td><td>148.59131190166653</td><td>8.957000354568022</td><td>-1.3984991161729567</td><td>-1.509803051827447</td><td>0.006055072116780025</td><td>-0.024904009848869535</td></tr><tr><td>1992.0</td><td>14.503617196701981</td><td>350.0573651354537</td><td>150.43340518256772</td><td>8.974908127208481</td><td>0.6241172924088687</td><td>1.8420932809011958</td><td>0.001854993652704806</td><td>0.017907772640459285</td></tr><tr><td>1993.0</td><td>14.514344778424615</td><td>350.50718664607336</td><td>150.71800641558747</td><td>8.980314839016273</td><td>0.4498215106196426</td><td>0.2846012330197425</td><td>0.010727581722633772</td><td>0.005406711807792064</td></tr><tr><td>1994.0</td><td>14.504883996212115</td><td>349.4445229640155</td><td>149.99475852272727</td><td>8.969135890151527</td><td>-1.0626636820578597</td><td>-0.7232478928602006</td><td>-0.009460782212499907</td><td>-0.011178948864746019</td></tr><tr><td>1995.0</td><td>14.494475791990437</td><td>349.79353616258226</td><td>150.235536162582</td><td>8.996441123729827</td><td>0.3490131985667517</td><td>0.2407776398547412</td><td>-0.010408204221677764</td><td>0.027305233578299948</td></tr><tr><td>1996.0</td><td>14.500167824074072</td><td>349.79020023148115</td><td>148.11617476851865</td><td>9.002643518518521</td><td>-0.003335931101105416</td><td>-2.119361394063361</td><td>0.005692032083635112</td><td>0.006202394788694221</td></tr><tr><td>1997.0</td><td>14.492891537826026</td><td>350.3957665525786</td><td>149.74719107754044</td><td>9.015632007553407</td><td>0.6055663210974558</td><td>1.6310163090217884</td><td>-0.0072762862480466595</td><td>0.012988489034885475</td></tr><tr><td>1998.0</td><td>14.508865735259281</td><td>349.4613201515509</td><td>149.20769358276127</td><td>8.991582997868823</td><td>-0.9344464010276852</td><td>-0.5394974947791695</td><td>0.015974197433255455</td><td>-0.024049009684583567</td></tr><tr><td>1999.0</td><td>14.497037735849064</td><td>349.2181686320754</td><td>149.68543867924527</td><td>8.980232311320748</td><td>-0.24315151947553204</td><td>0.477745096484</td><td>-0.01182799941021706</td><td>-0.011350686548075473</td></tr><tr><td>2000.0</td><td>14.483646919431287</td><td>350.3155734597152</td><td>148.57850000000005</td><td>8.996046208530807</td><td>1.0974048276398207</td><td>-1.1069386792452178</td><td>-0.013390816417777174</td><td>0.01581389721005877</td></tr><tr><td>2001.0</td><td>14.505362626978492</td><td>349.74219584219253</td><td>151.01171863926297</td><td>8.954207417906922</td><td>-0.5733776175226808</td><td>2.4332186392629183</td><td>0.0217157075472052</td><td>-0.04183879062388485</td></tr><tr><td>2002.0</td><td>14.52776230378851</td><td>349.86540186474724</td><td>149.51501121208543</td><td>8.90526849994099</td><td>0.12320602255471158</td><td>-1.4967074271775402</td><td>0.022399676810017866</td><td>-0.048938917965932305</td></tr><tr><td>2003.0</td><td>14.496598647526403</td><td>349.90884090639463</td><td>148.69094910428282</td><td>8.998391268240592</td><td>0.043439041647388876</td><td>-0.8240621078026038</td><td>-0.031163656262107153</td><td>0.09312276829960275</td></tr><tr><td>2004.0</td><td>14.495895290461405</td><td>349.91996174993994</td><td>149.3238572794646</td><td>8.955120726751145</td><td>0.011120843545313619</td><td>0.6329081751817682</td><td>-7.033570649976895E-4</td><td>-0.04327054148944676</td></tr><tr><td>2005.0</td><td>14.481573476702508</td><td>350.02530107526854</td><td>150.02226762246102</td><td>9.000019115890089</td><td>0.10533932532860035</td><td>0.698410342996425</td><td>-0.014321813758897406</td><td>0.04489838913894317</td></tr><tr><td>2006.0</td><td>14.506753847934263</td><td>350.3845492419861</td><td>151.41345098946874</td><td>9.021156116190264</td><td>0.35924816671757753</td><td>1.3911833670077272</td><td>0.025180371231755316</td><td>0.0211370003001754</td></tr><tr><td>2007.0</td><td>14.49899109105635</td><td>349.7317146824019</td><td>149.08447992595168</td><td>9.025521231054025</td><td>-0.6528345595842211</td><td>-2.3289710635170593</td><td>-0.007762756877912835</td><td>0.0043651148637611215</td></tr><tr><td>2008.0</td><td>14.486154931233088</td><td>349.5908052192312</td><td>149.9747690137536</td><td>9.06935464911249</td><td>-0.14090946317071484</td><td>0.8902890878019036</td><td>-0.01283615982326225</td><td>0.04383341805846541</td></tr><tr><td>2009.0</td><td>14.49132985039182</td><td>350.17439563049146</td><td>149.53940037995733</td><td>8.997235810971281</td><td>0.5835904112602748</td><td>-0.43536863379625856</td><td>0.0051749191587315835</td><td>-0.07211883814120945</td></tr><tr><td>2010.0</td><td>14.505163390811518</td><td>349.33107319426034</td><td>151.2798842397202</td><td>9.044404919811889</td><td>-0.8433224362311194</td><td>1.7404838597628611</td><td>0.01383354041969831</td><td>0.047169108840607876</td></tr><tr><td>2011.0</td><td>14.499517988124348</td><td>350.2491593899173</td><td>149.34739899871934</td><td>8.991918733263473</td><td>0.9180861956569402</td><td>-1.9324852410008475</td><td>-0.005645402687170176</td><td>-0.05248618654841586</td></tr><tr><td>2012.0</td><td>14.489564133016641</td><td>350.6499536817104</td><td>151.5206793349169</td><td>9.064762470308791</td><td>0.40079429179309045</td><td>2.173280336197564</td><td>-0.009953855107706744</td><td>0.07284373704531788</td></tr><tr><td>2013.0</td><td>14.495074697094449</td><td>350.90136807434425</td><td>150.6958004940595</td><td>9.073783084343013</td><td>0.2514143926338761</td><td>-0.8248788408573944</td><td>0.0055105640778077</td><td>0.009020614034222163</td></tr><tr><td>2014.0</td><td>14.493445358121784</td><td>350.3364628768923</td><td>149.81799308783215</td><td>9.039924919556665</td><td>-0.5649051974519352</td><td>-0.8778074062273618</td><td>-0.0016293389726644847</td><td>-0.03385816478634851</td></tr><tr><td>2015.0</td><td>14.493280391688565</td><td>350.66459039885376</td><td>149.78022808693564</td><td>9.00750059708621</td><td>0.32812752196144856</td><td>-0.03776500089651336</td><td>-1.6496643321950444E-4</td><td>-0.03242432247045457</td></tr><tr><td>2016.0</td><td>14.512286344635397</td><td>350.6945297259636</td><td>148.8690431955409</td><td>9.012872735717595</td><td>0.029939327109843816</td><td>-0.9111848913947256</td><td>0.019005952946832494</td><td>0.005372138631384971</td></tr><tr><td>2017.0</td><td>14.502387333965851</td><td>350.3148742884253</td><td>149.8318500948767</td><td>9.004135436432641</td><td>-0.3796554375383039</td><td>0.9628068993357886</td><td>-0.009899010669546016</td><td>-0.008737299284954148</td></tr><tr><td>2018.0</td><td>14.502585371617652</td><td>350.18340541179253</td><td>150.5238260664067</td><td>8.918524164008032</td><td>-0.1314688766327663</td><td>0.6919759715300131</td><td>1.980376518009308E-4</td><td>-0.0856112724246092</td></tr><tr><td>2019.0</td><td>14.500105412767976</td><td>348.64224920052084</td><td>151.02041454459302</td><td>9.01469027596825</td><td>-1.5411562112716979</td><td>0.496588478186311</td><td>-0.0024799588496762226</td><td>0.09616611196021907</td></tr><tr><td>2020.0</td><td>14.49693746347166</td><td>350.0217311513737</td><td>150.21974050262986</td><td>9.054253652834596</td><td>1.3794819508528349</td><td>-0.8006740419631626</td><td>-0.0031679492963156974</td><td>0.03956337686634548</td></tr><tr><td>2021.0</td><td>14.501423868312747</td><td>350.15030217519137</td><td>150.18745561434454</td><td>8.968699588477376</td><td>0.12857102381769892</td><td>-0.03228488828531795</td><td>0.004486404841086866</td><td>-0.08555406435722013</td></tr><tr><td>2022.0</td><td>14.495232779097385</td><td>350.49302256531996</td><td>148.85764608075985</td><td>8.942011876484564</td><td>0.3427203901285907</td><td>-1.3298095335846938</td><td>-0.0061910892153616</td><td>-0.02668771199281217</td></tr><tr><td>2023.0</td><td>14.47455903614459</td><td>351.0032939759037</td><td>148.35591807228909</td><td>8.984516867469877</td><td>0.5102714105837549</td><td>-0.5017280084707636</td><td>-0.020673742952794782</td><td>0.042504990985312574</td></tr></tbody></table></div>"
      ]
     },
     "metadata": {
      "application/vnd.databricks.v1+output": {
       "addedWidgets": {},
       "aggData": [],
       "aggError": "",
       "aggOverflow": false,
       "aggSchema": [],
       "aggSeriesLimitReached": false,
       "aggType": "",
       "arguments": {},
       "columnCustomDisplayInfos": {},
       "data": [
        [
         1900.0,
         14.506663070837831,
         350.37340524991026,
         150.40828838547287,
         8.978658755843231,
         0.0,
         0.0,
         0.0,
         0.0
        ],
        [
         1901.0,
         14.485342725227884,
         349.75713981295127,
         150.54882798626747,
         8.947272404403929,
         -0.6162654369589973,
         0.1405396007945967,
         -0.02132034560994711,
         -0.03138635143930202
        ],
        [
         1902.0,
         14.47626190196308,
         349.2996861408254,
         152.1748207358646,
         9.03555424944164,
         -0.4574536721258937,
         1.6259927495971453,
         -0.00908082326480475,
         0.08828184503771119
        ],
        [
         1903.0,
         14.492360062327705,
         349.64437492508654,
         150.1383375284669,
         9.056501258540099,
         0.3446887842611659,
         -2.0364832073977084,
         0.01609816036462597,
         0.02094700909845848
        ],
        [
         1904.0,
         14.494240694493993,
         349.53703175169466,
         150.6673183493875,
         8.990690926388393,
         -0.10734317339188237,
         0.5289808209205944,
         0.0018806321662871994,
         -0.06581033215170606
        ],
        [
         1905.0,
         14.48622227465785,
         349.76851698914595,
         150.27739971684747,
         9.000759792354875,
         0.23148523745129523,
         -0.3899186325400308,
         -0.008018419836142598,
         0.010068865966482932
        ],
        [
         1906.0,
         14.50161015948021,
         350.2692876550503,
         148.9720945067927,
         8.95512817483756,
         0.5007706659043265,
         -1.3053052100547688,
         0.015387884822359865,
         -0.045631617517315703
        ],
        [
         1907.0,
         14.507351928783379,
         349.70745163204737,
         149.4286302670623,
         8.962523442136497,
         -0.5618360230029111,
         0.4565357602695883,
         0.005741769303169164,
         0.007395267298937469
        ],
        [
         1908.0,
         14.489931636020753,
         349.90853842527093,
         149.75017916077329,
         8.944291607732207,
         0.20108679322356693,
         0.3215488937109967,
         -0.017420292762626133,
         -0.01823183440428977
        ],
        [
         1909.0,
         14.524319831421211,
         349.47765745726997,
         149.0916892999298,
         9.020469445094825,
         -0.4308809680009631,
         -0.6584898608434742,
         0.03438819540045834,
         0.07617783736261785
        ],
        [
         1910.0,
         14.498871545843466,
         349.3040825528962,
         149.03968782518223,
         9.032927506070067,
         -0.17357490437376555,
         -0.0520014747475841,
         -0.025448285577745366,
         0.01245806097524138
        ],
        [
         1911.0,
         14.500951593860684,
         350.0229362455726,
         148.5995383707201,
         9.052127508854792,
         0.7188536926764186,
         -0.44014945446213005,
         0.0020800480172180613,
         0.019200002784725
        ],
        [
         1912.0,
         14.48462780482015,
         349.59773239938266,
         148.5005484981599,
         9.042417191024583,
         -0.42520384618995877,
         -0.09898987256019609,
         -0.01632378904053411,
         -0.009710317830208481
        ],
        [
         1913.0,
         14.515579853437242,
         349.8980039548679,
         148.05174828428508,
         9.03783878097011,
         0.30027155548521023,
         -0.4488002138748186,
         0.030952048617091776,
         -0.00457841005447257
        ],
        [
         1914.0,
         14.496110911486422,
         350.20513714217253,
         148.4231081566655,
         9.001814588573469,
         0.30713318730465744,
         0.3713598723804239,
         -0.019468941950819385,
         -0.03602419239664201
        ],
        [
         1915.0,
         14.50218790218791,
         349.48147654147675,
         150.07087165087168,
         8.961532701532708,
         -0.72366060069578,
         1.647763494206174,
         0.0060769907014872615,
         -0.04028188704076108
        ],
        [
         1916.0,
         14.484808030996826,
         350.2527450980389,
         149.10727955852985,
         8.991458259950686,
         0.77126855656212,
         -0.9635920923418269,
         -0.01737987119108375,
         0.029925558417978948
        ],
        [
         1917.0,
         14.52091760299626,
         350.21844335206,
         151.8363050093632,
         8.99397705992509,
         -0.034301745978893905,
         2.7290254508333476,
         0.03610957199943421,
         0.0025187999744034073
        ],
        [
         1918.0,
         14.496760679726227,
         350.5119176303991,
         152.33301274486655,
         9.03561364172763,
         0.2934742783391471,
         0.49670773550334957,
         -0.024156923270032493,
         0.04163658180254082
        ],
        [
         1919.0,
         14.504868451961473,
         350.6690216114632,
         149.05235377026085,
         8.987317359642951,
         0.15710398106409684,
         -3.2806589746057,
         0.008107772235245392,
         -0.04829628208467973
        ],
        [
         1920.0,
         14.490945023356089,
         350.1388226134863,
         151.16636124086708,
         9.046906216313335,
         -0.5301989979769246,
         2.114007470606225,
         -0.013923428605384203,
         0.05958885667038416
        ],
        [
         1921.0,
         14.500930860429618,
         350.0613311421534,
         149.88289822749152,
         9.039323864303324,
         -0.07749147133290535,
         -1.2834630133755525,
         0.009985837073529069,
         -0.0075823520100115616
        ],
        [
         1922.0,
         14.507355499940417,
         349.63446311524245,
         149.50865689429156,
         9.002739840305086,
         -0.42686802691093817,
         -0.37424133319996145,
         0.0064246395107989684,
         -0.03658402399823757
        ],
        [
         1923.0,
         14.489327274873123,
         349.9698524725602,
         150.117566387348,
         9.027730437861418,
         0.33538935731775155,
         0.6089094930564443,
         -0.018028225067293846,
         0.02499059755633226
        ],
        [
         1924.0,
         14.5025366603595,
         350.677081362346,
         150.14051797540213,
         9.004997634815512,
         0.7072288897857675,
         0.022951588054127114,
         0.013209385486376846,
         -0.022732803045906635
        ],
        [
         1925.0,
         14.495334213368531,
         350.7113248529943,
         148.52775471018856,
         9.025459018360737,
         0.034243490648350416,
         -1.612763265213573,
         -0.00720244699096817,
         0.020461383545224976
        ],
        [
         1926.0,
         14.503453777569225,
         350.79023111215366,
         151.57127404974185,
         9.014436884091973,
         0.07890625915933924,
         3.043519339553285,
         0.00811956420069393,
         -0.01102213426876375
        ],
        [
         1927.0,
         14.494511003883733,
         350.4885100623752,
         151.08424149699894,
         8.982912792750378,
         -0.3017210497784504,
         -0.48703255274290314,
         -0.0089427736854919,
         -0.03152409134159484
        ],
        [
         1928.0,
         14.491039697542524,
         350.20761342154975,
         150.38311909262774,
         9.01359877126654,
         -0.2808966408254605,
         -0.7011224043712048,
         -0.0034713063412095124,
         0.030685978516162393
        ],
        [
         1929.0,
         14.513484757199667,
         349.8914953608868,
         150.8823689601157,
         9.061172430413302,
         -0.31611806066297277,
         0.4992498674879755,
         0.022445059657142608,
         0.047573659146761926
        ],
        [
         1930.0,
         14.50363669107936,
         350.6861952215155,
         150.35553247688793,
         8.988947052467273,
         0.7946998606287252,
         -0.5268364832277825,
         -0.009848066120307308,
         -0.07222537794602957
        ],
        [
         1931.0,
         14.512552637804573,
         349.6550390347766,
         149.33021528270632,
         9.00315117104329,
         -1.0311561867388832,
         -1.0253171941816106,
         0.008915946725213786,
         0.014204118576017777
        ],
        [
         1932.0,
         14.494287110568113,
         350.2687403787415,
         150.56996212584002,
         8.945748320097744,
         0.6137013439648626,
         1.2397468431337018,
         -0.018265527236460244,
         -0.057402850945546646
        ],
        [
         1933.0,
         14.49931703303161,
         350.6723709885972,
         152.67194428118032,
         9.052710708828027,
         0.40363060985572474,
         2.101982155340295,
         0.005029922463497982,
         0.10696238873028285
        ],
        [
         1934.0,
         14.505952009598078,
         350.23961367726446,
         150.71839832033584,
         8.978915416916612,
         -0.4327573113327503,
         -1.9535459608444796,
         0.0066349765664668325,
         -0.07379529191141465
        ],
        [
         1935.0,
         14.483445984648878,
         349.13115935387776,
         151.84313552526075,
         8.975418719211826,
         -1.1084543233866953,
         1.1247372049249122,
         -0.022506024949199954,
         -0.0034966977047865555
        ],
        [
         1936.0,
         14.499120125180546,
         349.4600180548871,
         148.93047905633125,
         9.041178382282151,
         0.3288587010093238,
         -2.912656468929498,
         0.015674140531668712,
         0.06575966307032566
        ],
        [
         1937.0,
         14.49404949911608,
         349.75320447849174,
         148.52256334708306,
         8.948656452563355,
         0.2931864236046522,
         -0.40791570924818643,
         -0.005070626064465955,
         -0.0925219297187958
        ],
        [
         1938.0,
         14.48671104882037,
         350.73019037608003,
         150.16143190843258,
         8.988537724830646,
         0.9769858975882926,
         1.6388685613495113,
         -0.0073384502957107856,
         0.03988127226729077
        ],
        [
         1939.0,
         14.503416061812224,
         349.7836162491218,
         150.40019784593792,
         9.029222664481388,
         -0.9465741269582395,
         0.2387659375053488,
         0.016705012991854673,
         0.040684939650741825
        ],
        [
         1940.0,
         14.50395693611013,
         349.51550300035296,
         148.31593481586074,
         8.959990587127889,
         -0.26811324876882736,
         -2.0842630300771816,
         5.408742979060577E-4,
         -0.06923207735349912
        ],
        [
         1941.0,
         14.489725281374803,
         350.59263705675914,
         149.78996006293107,
         8.979158901125494,
         1.0771340564061802,
         1.4740252470703297,
         -0.014231654735327837,
         0.019168313997605324
        ],
        [
         1942.0,
         14.524255243088657,
         350.0009294566249,
         149.58429218303155,
         9.034495948522409,
         -0.5917076001342707,
         -0.20566787989952218,
         0.03452996171385436,
         0.055337047396914585
        ],
        [
         1943.0,
         14.491954405129418,
         350.02018760389456,
         150.4471040132985,
         8.99141296604133,
         0.019258147269681558,
         0.8628118302669634,
         -0.032300837959239104,
         -0.04308298248107967
        ],
        [
         1944.0,
         14.499474554256704,
         350.4186491911683,
         149.8993812728776,
         9.041880977683315,
         0.3984615872737436,
         -0.5477227404209088,
         0.0075201491272860466,
         0.050468011641985555
        ],
        [
         1945.0,
         14.507748027731283,
         350.59748744919904,
         149.50953382739658,
         9.019802773129326,
         0.17883825803073705,
         -0.3898474454810241,
         0.008273473474579518,
         -0.022078204553988456
        ],
        [
         1946.0,
         14.488129084967303,
         350.0484617180208,
         152.21701680672265,
         8.98339402427638,
         -0.549025731178233,
         2.7074829793260733,
         -0.01961894276398013,
         -0.03640874885294565
        ],
        [
         1947.0,
         14.499223415555283,
         349.7637873244424,
         150.3937896848816,
         9.042623627994809,
         -0.2846743935784275,
         -1.8232271218410574,
         0.011094330587980039,
         0.059229603718428336
        ],
        [
         1948.0,
         14.491501677852359,
         349.94834491850435,
         151.56951342281886,
         8.99441874400766,
         0.18455759406197103,
         1.1757237379372611,
         -0.007721737702924614,
         -0.048204883987148506
        ],
        [
         1949.0,
         14.50321951219513,
         349.3115121951216,
         149.54117189314758,
         8.992439024390244,
         -0.6368327233827245,
         -2.0283415296712803,
         0.011717834342771738,
         -0.0019797196174167198
        ],
        [
         1950.0,
         14.501623476511652,
         350.32285883327484,
         150.67365755531898,
         8.998157614483507,
         1.0113466381532135,
         1.1324856621714048,
         -0.0015960356834785472,
         0.005718590093263032
        ],
        [
         1951.0,
         14.513514967259116,
         350.36489593077664,
         150.0231478016837,
         9.045122778297483,
         0.04203709750180451,
         -0.6505097536352764,
         0.011891490747464317,
         0.04696516381397586
        ],
        [
         1952.0,
         14.516505624629973,
         350.2757525162819,
         150.97799644760192,
         9.043557134399057,
         -0.0891434144947425,
         0.9548486459182186,
         0.0029906573708569084,
         -0.0015656438984255061
        ],
        [
         1953.0,
         14.509908355153545,
         349.82862175672454,
         151.86128540823617,
         9.016150916448465,
         -0.4471307595573535,
         0.8832889606342462,
         -0.006597269476428025,
         -0.027406217950591838
        ],
        [
         1954.0,
         14.509060505790606,
         349.563911604822,
         150.05598440085078,
         8.992657764121956,
         -0.2647101519025341,
         -1.8053010073853955,
         -8.478493629393569E-4,
         -0.023493152326508948
        ],
        [
         1955.0,
         14.497287755343013,
         349.8519081355528,
         150.55711654268498,
         9.055518951470061,
         0.2879965307307657,
         0.501132141834205,
         -0.011772750447592628,
         0.06286118734810486
        ],
        [
         1956.0,
         14.503879289940828,
         349.5832520710054,
         149.13801656804742,
         8.989075739644964,
         -0.2686560645473719,
         -1.419099974637561,
         0.006591534597815141,
         -0.06644321182509749
        ],
        [
         1957.0,
         14.504969317771629,
         350.69842858861733,
         148.83356756106363,
         8.972880519793048,
         1.1151765176119284,
         -0.30444900698378774,
         0.0010900278308003664,
         -0.016195219851915965
        ],
        [
         1958.0,
         14.509557260920884,
         349.5025419126332,
         148.62773789846526,
         9.01343919716647,
         -1.1958866759841271,
         -0.20582966259837576,
         0.00458794314925548,
         0.040558677373422114
        ],
        [
         1959.0,
         14.51397813190648,
         349.67175758985724,
         151.05542514830748,
         9.019459113644295,
         0.16921567722403097,
         2.427687249842222,
         0.004420870985596181,
         0.006019916477825404
        ],
        [
         1960.0,
         14.511935099021715,
         349.8665938916728,
         149.40610116917196,
         9.009893820090669,
         0.1948363018155419,
         -1.6493239791355165,
         -0.0020430328847655943,
         -0.00956529355362612
        ],
        [
         1961.0,
         14.495286913925835,
         350.48859575460733,
         149.9367436435736,
         8.984505481688823,
         0.6220018629345532,
         0.5306424744016454,
         -0.016648185095879953,
         -0.02538833840184651
        ],
        [
         1962.0,
         14.522149732620326,
         350.1343279857394,
         150.49833511586456,
         9.083378490790247,
         -0.35426776886794187,
         0.5615914722909565,
         0.026862818694491253,
         0.09887300910142471
        ],
        [
         1963.0,
         14.498212329565309,
         350.0018774035667,
         151.20587460668918,
         8.916108845122944,
         -0.13245058217268024,
         0.7075394908246153,
         -0.023937403055017015,
         -0.16726964566730373
        ],
        [
         1964.0,
         14.492454363443638,
         349.9692262395473,
         149.172711105877,
         8.96699328700977,
         -0.03265116401939849,
         -2.0331635008121793,
         -0.005757966121670677,
         0.050884441886825726
        ],
        [
         1965.0,
         14.496187983343251,
         350.38228673408685,
         149.4137132659131,
         9.024437834622251,
         0.4130604945395362,
         0.2410021600360892,
         0.003733619899612961,
         0.057444547612481855
        ],
        [
         1966.0,
         14.503252558522513,
         350.3777896718031,
         152.62733796023986,
         8.979303611339837,
         -0.0044970622837468,
         3.213624694326768,
         0.007064575179262178,
         -0.0451342232824139
        ],
        [
         1967.0,
         14.49062038580613,
         349.4579685639435,
         149.6843403191236,
         8.975152417242198,
         -0.9198211078596046,
         -2.94299764111625,
         -0.012632172716383394,
         -0.004151194097639532
        ],
        [
         1968.0,
         14.49744379391101,
         349.3615585480095,
         149.8309274004682,
         8.980688524590159,
         -0.09641001593399778,
         0.14658708134459175,
         0.006823408104880357,
         0.00553610734796095
        ],
        [
         1969.0,
         14.5131468117828,
         349.69414054181954,
         150.43970897906067,
         9.026194250561925,
         0.33258199381003806,
         0.6087815785924704,
         0.015703017871789626,
         0.04550572597176661
        ],
        [
         1970.0,
         14.503818507462688,
         350.0902065671639,
         149.16593074626869,
         9.026955223880604,
         0.3960660253443393,
         -1.273778232791983,
         -0.009328304320112224,
         7.609733186786372E-4
        ],
        [
         1971.0,
         14.504212445594623,
         350.66225502882014,
         149.85345724032481,
         8.968437830843431,
         0.5720484616562658,
         0.6875264940561294,
         3.9393813193555616E-4,
         -0.05851739303717274
        ],
        [
         1972.0,
         14.503443092340719,
         349.7973514674303,
         148.998711524696,
         8.999111190646625,
         -0.8649035613898377,
         -0.854745715628809,
         -7.693532539043701E-4,
         0.030673359803193634
        ],
        [
         1973.0,
         14.500222727817023,
         349.4575990899292,
         148.71420787929597,
         8.984516824332399,
         -0.33975237750109955,
         -0.2845036454000365,
         -0.0032203645236954515,
         -0.014594366314225837
        ],
        [
         1974.0,
         14.506717357728421,
         349.5668112153976,
         149.60424498039663,
         8.997913745990262,
         0.10921212546838888,
         0.8900371011006598,
         0.006494629911397709,
         0.013396921657863103
        ],
        [
         1975.0,
         14.48257863849766,
         349.7370093896713,
         149.2066666666667,
         9.013739436619721,
         0.17019817427370754,
         -0.39757831372992314,
         -0.02413871923076094,
         0.015825690629458933
        ],
        [
         1976.0,
         14.500529956618585,
         350.90082072927623,
         149.9609977723062,
         8.946507210692927,
         1.1638113396049334,
         0.7543311056394941,
         0.017951318120925208,
         -0.06723222592679434
        ],
        [
         1977.0,
         14.498762825101402,
         350.36347291815815,
         149.8627189214985,
         9.035875685993792,
         -0.5373478111180816,
         -0.09827885080770216,
         -0.0017671315171838842,
         0.08936847530086567
        ],
        [
         1978.0,
         14.483972859148336,
         350.5655135704255,
         151.62002690687868,
         8.945451567618152,
         0.20204065226732837,
         1.75730798538018,
         -0.014789965953065476,
         -0.09042411837564046
        ],
        [
         1979.0,
         14.504710958742164,
         349.477030381842,
         151.42110414942667,
         8.96047050478779,
         -1.0884831885834956,
         -0.19892275745201005,
         0.020738099593827997,
         0.015018937169637425
        ],
        [
         1980.0,
         14.504480488951575,
         350.2503326281147,
         151.08196755994345,
         9.10161142454161,
         0.7733022462726922,
         -0.3391365894832177,
         -2.3046979058882755E-4,
         0.1411409197538216
        ],
        [
         1981.0,
         14.504588516746413,
         350.09155861244017,
         148.37661842105277,
         8.893453349282295,
         -0.15877401567450988,
         -2.705349138890682,
         1.0802779483753966E-4,
         -0.20815807525931618
        ],
        [
         1982.0,
         14.49236660314436,
         349.71825750357317,
         149.54565507384453,
         8.959648642210581,
         -0.37330110886699686,
         1.1690366527917604,
         -0.012221913602052936,
         0.06619529292828652
        ],
        [
         1983.0,
         14.504210079961235,
         349.5635861400533,
         149.3152798643083,
         9.044645020596068,
         -0.1546713635198671,
         -0.23037520953621993,
         0.011843476816874698,
         0.08499637838548679
        ],
        [
         1984.0,
         14.490802625518182,
         349.74309189313703,
         150.2739751266697,
         9.028748272685402,
         0.17950575308373118,
         0.9586952623614025,
         -0.013407454443052913,
         -0.01589674791066642
        ],
        [
         1985.0,
         14.482652005174645,
         349.6843455251088,
         148.4067705515698,
         9.015121721745269,
         -0.05874636802820987,
         -1.8672045750999189,
         -0.008150620343537085,
         -0.013626550940132987
        ],
        [
         1986.0,
         14.497171357321003,
         350.11001187507435,
         150.25718441990261,
         8.992929580809871,
         0.42566634996552466,
         1.8504138683328222,
         0.014519352146358244,
         -0.02219214093539712
        ],
        [
         1987.0,
         14.489355673133465,
         350.5952416225749,
         149.59424103468547,
         9.032305702527927,
         0.48522974750056846,
         -0.6629433852171474,
         -0.007815684187537641,
         0.039376121718055046
        ],
        [
         1988.0,
         14.509555475676983,
         350.25530793194355,
         151.23495327102813,
         8.978478312964297,
         -0.33993369063136925,
         1.6407122363426652,
         0.02019980254351772,
         -0.053827389563629424
        ],
        [
         1989.0,
         14.48778513961192,
         350.2149479413157,
         149.30798390913387,
         8.956940369143394,
         -0.040359990627848674,
         -1.9269693618942654,
         -0.021770336065062068,
         -0.021537943820902683
        ],
        [
         1990.0,
         14.495707130932496,
         350.8317469592178,
         150.10111495349398,
         8.981904364416891,
         0.6167990179021103,
         0.7931310443601092,
         0.007921991320575472,
         0.02496399527349702
        ],
        [
         1991.0,
         14.501762203049276,
         349.43324784304485,
         148.59131190166653,
         8.957000354568022,
         -1.3984991161729567,
         -1.509803051827447,
         0.006055072116780025,
         -0.024904009848869535
        ],
        [
         1992.0,
         14.503617196701981,
         350.0573651354537,
         150.43340518256772,
         8.974908127208481,
         0.6241172924088687,
         1.8420932809011958,
         0.001854993652704806,
         0.017907772640459285
        ],
        [
         1993.0,
         14.514344778424615,
         350.50718664607336,
         150.71800641558747,
         8.980314839016273,
         0.4498215106196426,
         0.2846012330197425,
         0.010727581722633772,
         0.005406711807792064
        ],
        [
         1994.0,
         14.504883996212115,
         349.4445229640155,
         149.99475852272727,
         8.969135890151527,
         -1.0626636820578597,
         -0.7232478928602006,
         -0.009460782212499907,
         -0.011178948864746019
        ],
        [
         1995.0,
         14.494475791990437,
         349.79353616258226,
         150.235536162582,
         8.996441123729827,
         0.3490131985667517,
         0.2407776398547412,
         -0.010408204221677764,
         0.027305233578299948
        ],
        [
         1996.0,
         14.500167824074072,
         349.79020023148115,
         148.11617476851865,
         9.002643518518521,
         -0.003335931101105416,
         -2.119361394063361,
         0.005692032083635112,
         0.006202394788694221
        ],
        [
         1997.0,
         14.492891537826026,
         350.3957665525786,
         149.74719107754044,
         9.015632007553407,
         0.6055663210974558,
         1.6310163090217884,
         -0.0072762862480466595,
         0.012988489034885475
        ],
        [
         1998.0,
         14.508865735259281,
         349.4613201515509,
         149.20769358276127,
         8.991582997868823,
         -0.9344464010276852,
         -0.5394974947791695,
         0.015974197433255455,
         -0.024049009684583567
        ],
        [
         1999.0,
         14.497037735849064,
         349.2181686320754,
         149.68543867924527,
         8.980232311320748,
         -0.24315151947553204,
         0.477745096484,
         -0.01182799941021706,
         -0.011350686548075473
        ],
        [
         2000.0,
         14.483646919431287,
         350.3155734597152,
         148.57850000000005,
         8.996046208530807,
         1.0974048276398207,
         -1.1069386792452178,
         -0.013390816417777174,
         0.01581389721005877
        ],
        [
         2001.0,
         14.505362626978492,
         349.74219584219253,
         151.01171863926297,
         8.954207417906922,
         -0.5733776175226808,
         2.4332186392629183,
         0.0217157075472052,
         -0.04183879062388485
        ],
        [
         2002.0,
         14.52776230378851,
         349.86540186474724,
         149.51501121208543,
         8.90526849994099,
         0.12320602255471158,
         -1.4967074271775402,
         0.022399676810017866,
         -0.048938917965932305
        ],
        [
         2003.0,
         14.496598647526403,
         349.90884090639463,
         148.69094910428282,
         8.998391268240592,
         0.043439041647388876,
         -0.8240621078026038,
         -0.031163656262107153,
         0.09312276829960275
        ],
        [
         2004.0,
         14.495895290461405,
         349.91996174993994,
         149.3238572794646,
         8.955120726751145,
         0.011120843545313619,
         0.6329081751817682,
         -7.033570649976895E-4,
         -0.04327054148944676
        ],
        [
         2005.0,
         14.481573476702508,
         350.02530107526854,
         150.02226762246102,
         9.000019115890089,
         0.10533932532860035,
         0.698410342996425,
         -0.014321813758897406,
         0.04489838913894317
        ],
        [
         2006.0,
         14.506753847934263,
         350.3845492419861,
         151.41345098946874,
         9.021156116190264,
         0.35924816671757753,
         1.3911833670077272,
         0.025180371231755316,
         0.0211370003001754
        ],
        [
         2007.0,
         14.49899109105635,
         349.7317146824019,
         149.08447992595168,
         9.025521231054025,
         -0.6528345595842211,
         -2.3289710635170593,
         -0.007762756877912835,
         0.0043651148637611215
        ],
        [
         2008.0,
         14.486154931233088,
         349.5908052192312,
         149.9747690137536,
         9.06935464911249,
         -0.14090946317071484,
         0.8902890878019036,
         -0.01283615982326225,
         0.04383341805846541
        ],
        [
         2009.0,
         14.49132985039182,
         350.17439563049146,
         149.53940037995733,
         8.997235810971281,
         0.5835904112602748,
         -0.43536863379625856,
         0.0051749191587315835,
         -0.07211883814120945
        ],
        [
         2010.0,
         14.505163390811518,
         349.33107319426034,
         151.2798842397202,
         9.044404919811889,
         -0.8433224362311194,
         1.7404838597628611,
         0.01383354041969831,
         0.047169108840607876
        ],
        [
         2011.0,
         14.499517988124348,
         350.2491593899173,
         149.34739899871934,
         8.991918733263473,
         0.9180861956569402,
         -1.9324852410008475,
         -0.005645402687170176,
         -0.05248618654841586
        ],
        [
         2012.0,
         14.489564133016641,
         350.6499536817104,
         151.5206793349169,
         9.064762470308791,
         0.40079429179309045,
         2.173280336197564,
         -0.009953855107706744,
         0.07284373704531788
        ],
        [
         2013.0,
         14.495074697094449,
         350.90136807434425,
         150.6958004940595,
         9.073783084343013,
         0.2514143926338761,
         -0.8248788408573944,
         0.0055105640778077,
         0.009020614034222163
        ],
        [
         2014.0,
         14.493445358121784,
         350.3364628768923,
         149.81799308783215,
         9.039924919556665,
         -0.5649051974519352,
         -0.8778074062273618,
         -0.0016293389726644847,
         -0.03385816478634851
        ],
        [
         2015.0,
         14.493280391688565,
         350.66459039885376,
         149.78022808693564,
         9.00750059708621,
         0.32812752196144856,
         -0.03776500089651336,
         -1.6496643321950444E-4,
         -0.03242432247045457
        ],
        [
         2016.0,
         14.512286344635397,
         350.6945297259636,
         148.8690431955409,
         9.012872735717595,
         0.029939327109843816,
         -0.9111848913947256,
         0.019005952946832494,
         0.005372138631384971
        ],
        [
         2017.0,
         14.502387333965851,
         350.3148742884253,
         149.8318500948767,
         9.004135436432641,
         -0.3796554375383039,
         0.9628068993357886,
         -0.009899010669546016,
         -0.008737299284954148
        ],
        [
         2018.0,
         14.502585371617652,
         350.18340541179253,
         150.5238260664067,
         8.918524164008032,
         -0.1314688766327663,
         0.6919759715300131,
         1.980376518009308E-4,
         -0.0856112724246092
        ],
        [
         2019.0,
         14.500105412767976,
         348.64224920052084,
         151.02041454459302,
         9.01469027596825,
         -1.5411562112716979,
         0.496588478186311,
         -0.0024799588496762226,
         0.09616611196021907
        ],
        [
         2020.0,
         14.49693746347166,
         350.0217311513737,
         150.21974050262986,
         9.054253652834596,
         1.3794819508528349,
         -0.8006740419631626,
         -0.0031679492963156974,
         0.03956337686634548
        ],
        [
         2021.0,
         14.501423868312747,
         350.15030217519137,
         150.18745561434454,
         8.968699588477376,
         0.12857102381769892,
         -0.03228488828531795,
         0.004486404841086866,
         -0.08555406435722013
        ],
        [
         2022.0,
         14.495232779097385,
         350.49302256531996,
         148.85764608075985,
         8.942011876484564,
         0.3427203901285907,
         -1.3298095335846938,
         -0.0061910892153616,
         -0.02668771199281217
        ],
        [
         2023.0,
         14.47455903614459,
         351.0032939759037,
         148.35591807228909,
         8.984516867469877,
         0.5102714105837549,
         -0.5017280084707636,
         -0.020673742952794782,
         0.042504990985312574
        ]
       ],
       "datasetInfos": [],
       "dbfsResultPath": null,
       "isJsonSchema": true,
       "metadata": {},
       "overflow": false,
       "plotOptions": {
        "customPlotOptions": {},
        "displayType": "table",
        "pivotAggregation": null,
        "pivotColumns": null,
        "xColumns": null,
        "yColumns": null
       },
       "removedWidgets": [],
       "schema": [
        {
         "metadata": "{}",
         "name": "Year",
         "type": "\"double\""
        },
        {
         "metadata": "{}",
         "name": "Avg_GlobalTemperature",
         "type": "\"double\""
        },
        {
         "metadata": "{}",
         "name": "Avg_CO2Concentration",
         "type": "\"double\""
        },
        {
         "metadata": "{}",
         "name": "Avg_SeaLevelRise",
         "type": "\"double\""
        },
        {
         "metadata": "{}",
         "name": "Avg_ArcticIceArea",
         "type": "\"double\""
        },
        {
         "metadata": "{}",
         "name": "YOYAvgCo2 change",
         "type": "\"double\""
        },
        {
         "metadata": "{}",
         "name": "YOYAvgSeaLevelRise change",
         "type": "\"double\""
        },
        {
         "metadata": "{}",
         "name": "YOYAvgTemperature  change",
         "type": "\"double\""
        },
        {
         "metadata": "{}",
         "name": "YOYAvgArcticIceArea change",
         "type": "\"double\""
        }
       ],
       "type": "table"
      }
     },
     "output_type": "display_data"
    }
   ],
   "source": [
    "yoyCols = [c for c in YOYDF.columns if c.startswith(\"YOY\")]\n",
    "Cols = [c for c in YOYDF.columns if not c.startswith(\"YOY\")]\n",
    "YOYTrends = YOYDF.select(\n",
    "    *Cols,\n",
    "    *[when(col(\"Year\") == 1900, lit(0)).otherwise(col(c)).alias(c) for c in yoyCols]\n",
    ")\n",
    "display(YOYTrends)"
   ]
  },
  {
   "cell_type": "code",
   "execution_count": 0,
   "metadata": {
    "application/vnd.databricks.v1+cell": {
     "cellMetadata": {
      "byteLimit": 2048000,
      "rowLimit": 10000
     },
     "inputWidgets": {},
     "nuid": "51f98d20-00a4-47f4-9c70-4669453c0322",
     "showTitle": false,
     "tableResultSettingsMap": {},
     "title": ""
    }
   },
   "outputs": [
    {
     "output_type": "display_data",
     "data": {
      "text/html": [
       "<style scoped>\n",
       "  .table-result-container {\n",
       "    max-height: 300px;\n",
       "    overflow: auto;\n",
       "  }\n",
       "  table, th, td {\n",
       "    border: 1px solid black;\n",
       "    border-collapse: collapse;\n",
       "  }\n",
       "  th, td {\n",
       "    padding: 5px;\n",
       "  }\n",
       "  th {\n",
       "    text-align: left;\n",
       "  }\n",
       "</style><div class='table-result-container'><table class='table-result'><thead style='background-color: white'><tr><th>Decade</th><th>Avg_GlobalTemperature</th><th>Avg_CO2Concentration</th><th>Avg_SeaLevelRise</th><th>Avg_ArcticIceArea</th></tr></thead><tbody><tr><td>1900</td><td>14.49643042852139</td><td>349.7743090039253</td><td>150.14575859368648</td><td>8.989185005677328</td></tr><tr><td>1910</td><td>14.500568437731667</td><td>350.01614965283295</td><td>149.50144538689048</td><td>9.01370245982721</td></tr><tr><td>1920</td><td>14.498891876852245</td><td>350.2570725515749</td><td>150.3264759035073</td><td>9.02192778904816</td></tr><tr><td>1930</td><td>14.498248820165987</td><td>350.0380147813354</td><td>150.3503860169996</td><td>8.995248661272232</td></tr><tr><td>1940</td><td>14.499918813826108</td><td>350.0217499914089</td><td>150.12676979829666</td><td>9.003961757429886</td></tr><tr><td>1950</td><td>14.50802846852277</td><td>349.9663928939546</td><td>150.18039353322604</td><td>9.01460197294693</td></tr><tr><td>1960</td><td>14.502068997194254</td><td>349.97343653347957</td><td>150.22157935659817</td><td>8.994665656305882</td></tr><tr><td>1970</td><td>14.498896936905163</td><td>350.0618070358114</td><td>149.84080667877586</td><td>8.98789792214057</td></tr><tr><td>1980</td><td>14.496296796523978</td><td>350.02266816733356</td><td>149.73946292321386</td><td>9.000388239650672</td></tr><tr><td>1990</td><td>14.501375393031935</td><td>349.89330612780736</td><td>149.68306312466908</td><td>8.984979553435252</td></tr><tr><td>2000</td><td>14.497406898550413</td><td>349.96587396723686</td><td>149.7154404166688</td><td>8.99223210445886</td></tr><tr><td>2010</td><td>14.499341042184417</td><td>350.19676662426804</td><td>150.26871181436007</td><td>9.017251733649656</td></tr><tr><td>2020</td><td>14.492038286756596</td><td>350.4170874669472</td><td>149.40519006750586</td><td>8.987370496316604</td></tr></tbody></table></div>"
      ]
     },
     "metadata": {
      "application/vnd.databricks.v1+output": {
       "addedWidgets": {},
       "aggData": [],
       "aggError": "",
       "aggOverflow": false,
       "aggSchema": [],
       "aggSeriesLimitReached": false,
       "aggType": "",
       "arguments": {},
       "columnCustomDisplayInfos": {},
       "data": [
        [
         1900,
         14.49643042852139,
         349.7743090039253,
         150.14575859368648,
         8.989185005677328
        ],
        [
         1910,
         14.500568437731667,
         350.01614965283295,
         149.50144538689048,
         9.01370245982721
        ],
        [
         1920,
         14.498891876852245,
         350.2570725515749,
         150.3264759035073,
         9.02192778904816
        ],
        [
         1930,
         14.498248820165987,
         350.0380147813354,
         150.3503860169996,
         8.995248661272232
        ],
        [
         1940,
         14.499918813826108,
         350.0217499914089,
         150.12676979829666,
         9.003961757429886
        ],
        [
         1950,
         14.50802846852277,
         349.9663928939546,
         150.18039353322604,
         9.01460197294693
        ],
        [
         1960,
         14.502068997194254,
         349.97343653347957,
         150.22157935659817,
         8.994665656305882
        ],
        [
         1970,
         14.498896936905163,
         350.0618070358114,
         149.84080667877586,
         8.98789792214057
        ],
        [
         1980,
         14.496296796523978,
         350.02266816733356,
         149.73946292321386,
         9.000388239650672
        ],
        [
         1990,
         14.501375393031935,
         349.89330612780736,
         149.68306312466908,
         8.984979553435252
        ],
        [
         2000,
         14.497406898550413,
         349.96587396723686,
         149.7154404166688,
         8.99223210445886
        ],
        [
         2010,
         14.499341042184417,
         350.19676662426804,
         150.26871181436007,
         9.017251733649656
        ],
        [
         2020,
         14.492038286756596,
         350.4170874669472,
         149.40519006750586,
         8.987370496316604
        ]
       ],
       "datasetInfos": [],
       "dbfsResultPath": null,
       "isJsonSchema": true,
       "metadata": {},
       "overflow": false,
       "plotOptions": {
        "customPlotOptions": {},
        "displayType": "table",
        "pivotAggregation": null,
        "pivotColumns": null,
        "xColumns": null,
        "yColumns": null
       },
       "removedWidgets": [],
       "schema": [
        {
         "metadata": "{}",
         "name": "Decade",
         "type": "\"integer\""
        },
        {
         "metadata": "{}",
         "name": "Avg_GlobalTemperature",
         "type": "\"double\""
        },
        {
         "metadata": "{}",
         "name": "Avg_CO2Concentration",
         "type": "\"double\""
        },
        {
         "metadata": "{}",
         "name": "Avg_SeaLevelRise",
         "type": "\"double\""
        },
        {
         "metadata": "{}",
         "name": "Avg_ArcticIceArea",
         "type": "\"double\""
        }
       ],
       "type": "table"
      }
     },
     "output_type": "display_data"
    }
   ],
   "source": [
    "decadesDF = updatedDF.withColumn(\"Decade\", (col(\"Year\")/10).cast(\"int\")*10)\n",
    "DecadeTrends = decadesDF.groupBy(\"Decade\").avg(\"Avg_GlobalTemperature\", \"Avg_CO2Concentration\", \"Avg_SeaLevelRise\", \"Avg_ArcticIceArea\")\n",
    "DecadeTrends = DecadeTrends.select(\n",
    "    DecadeTrends[\"Decade\"],\n",
    "    DecadeTrends[\"avg(Avg_GlobalTemperature)\"].alias(\"Avg_GlobalTemperature\"),\n",
    "    DecadeTrends[\"avg(Avg_CO2Concentration)\"].alias(\"Avg_CO2Concentration\"),\n",
    "    DecadeTrends[\"avg(Avg_SeaLevelRise)\"].alias(\"Avg_SeaLevelRise\"),\n",
    "    DecadeTrends[\"avg(Avg_ArcticIceArea)\"].alias(\"Avg_ArcticIceArea\")\n",
    ")\n",
    "display(DecadeTrends.sort(\"Decade\"))"
   ]
  },
  {
   "cell_type": "markdown",
   "metadata": {
    "application/vnd.databricks.v1+cell": {
     "cellMetadata": {},
     "inputWidgets": {},
     "nuid": "c1ac15cc-3925-4e44-a2b6-a349b9203e59",
     "showTitle": false,
     "tableResultSettingsMap": {},
     "title": ""
    }
   },
   "source": []
  },
  {
   "cell_type": "code",
   "execution_count": 0,
   "metadata": {
    "application/vnd.databricks.v1+cell": {
     "cellMetadata": {
      "byteLimit": 2048000,
      "rowLimit": 10000
     },
     "inputWidgets": {},
     "nuid": "ee28765b-6376-427e-9c1a-1b933f4845ba",
     "showTitle": false,
     "tableResultSettingsMap": {},
     "title": ""
    }
   },
   "outputs": [],
   "source": [
    "#dbutils.fs.mkdirs(\"/mnt/gcg-data/transform-data\")"
   ]
  },
  {
   "cell_type": "code",
   "execution_count": 0,
   "metadata": {
    "application/vnd.databricks.v1+cell": {
     "cellMetadata": {
      "byteLimit": 2048000,
      "rowLimit": 10000
     },
     "inputWidgets": {},
     "nuid": "b6a912df-2bf2-4990-82c6-2f7d409e9cbb",
     "showTitle": false,
     "tableResultSettingsMap": {},
     "title": ""
    }
   },
   "outputs": [],
   "source": [
    "YOYTrends.write.option(\"header\",\"true\").csv(\"/mnt/gcg-data/transform-data/YOYTrends\")\n",
    "DecadeTrends.write.option(\"header\",\"true\").csv(\"/mnt/gcg-data/transform-data/DecadeTrends\")"
   ]
  }
 ],
 "metadata": {
  "application/vnd.databricks.v1+notebook": {
   "computePreferences": null,
   "dashboards": [],
   "environmentMetadata": {
    "base_environment": "",
    "client": "1"
   },
   "language": "python",
   "notebookMetadata": {
    "pythonIndentUnit": 4
   },
   "notebookName": "Data Transformation-gcg",
   "widgets": {}
  },
  "language_info": {
   "name": "python"
  }
 },
 "nbformat": 4,
 "nbformat_minor": 0
}