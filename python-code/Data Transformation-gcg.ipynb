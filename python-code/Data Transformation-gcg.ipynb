{
 "cells": [
  {
   "cell_type": "code",
   "execution_count": 0,
   "metadata": {
    "application/vnd.databricks.v1+cell": {
     "cellMetadata": {
      "byteLimit": 2048000,
      "rowLimit": 10000
     },
     "inputWidgets": {},
     "nuid": "012975a6-2b58-4e1f-9f06-6c8b8f14f779",
     "showTitle": false,
     "tableResultSettingsMap": {},
     "title": ""
    }
   },
   "outputs": [],
   "source": [
    "from pyspark.sql.functions import col, when, count, isnan, lag\n",
    "from pyspark.sql.window import Window"
   ]
  },
  {
   "cell_type": "code",
   "execution_count": 0,
   "metadata": {
    "application/vnd.databricks.v1+cell": {
     "cellMetadata": {
      "byteLimit": 2048000,
      "rowLimit": 10000
     },
     "inputWidgets": {},
     "nuid": "4ff4e265-7bb4-48c2-a599-275600ac31f9",
     "showTitle": false,
     "tableResultSettingsMap": {},
     "title": ""
    }
   },
   "outputs": [
    {
     "output_type": "execute_result",
     "data": {
      "text/plain": [
       "True"
      ]
     },
     "execution_count": 5,
     "metadata": {},
     "output_type": "execute_result"
    }
   ],
   "source": [
    "dbutils.fs.mount(source = \"wasbs://<container-name>@<storage-acc>.blob.core.windows.net/raw-data\", \n",
    "                 mount_point = \"/mnt/data\",\n",
    "                 extra_configs = {\"<config-key>\": \"<Account-key>\"})"
   ]
  },
  {
   "cell_type": "code",
   "execution_count": 0,
   "metadata": {
    "application/vnd.databricks.v1+cell": {
     "cellMetadata": {
      "byteLimit": 2048000,
      "rowLimit": 10000
     },
     "inputWidgets": {},
     "nuid": "8a7e9cc4-0e41-47fe-92fc-b47cac814694",
     "showTitle": false,
     "tableResultSettingsMap": {},
     "title": ""
    }
   },
   "outputs": [
    {
     "output_type": "execute_result",
     "data": {
      "text/plain": [
       "[FileInfo(path='dbfs:/mnt/data-gcg/gcg-rawdata-1900-2023', name='gcg-rawdata-1900-2023', size=65907681, modificationTime=1737563896000)]"
      ]
     },
     "execution_count": 6,
     "metadata": {},
     "output_type": "execute_result"
    }
   ],
   "source": [
    "dbutils.fs.ls(\"/mnt/data-gcg\")"
   ]
  },
  {
   "cell_type": "code",
   "execution_count": 0,
   "metadata": {
    "application/vnd.databricks.v1+cell": {
     "cellMetadata": {
      "byteLimit": 2048000,
      "rowLimit": 10000
     },
     "inputWidgets": {},
     "nuid": "d1eb43e1-9baa-4ccd-953d-fec6c0b9dab0",
     "showTitle": false,
     "tableResultSettingsMap": {},
     "title": ""
    }
   },
   "outputs": [
    {
     "output_type": "execute_result",
     "data": {
      "text/html": [
       "\n",
       "            <div>\n",
       "                <p><b>SparkSession - hive</b></p>\n",
       "                \n",
       "        <div>\n",
       "            <p><b>SparkContext</b></p>\n",
       "\n",
       "            <p><a href=\"/?o=1402529862341051#setting/sparkui/0123-154324-nry37xdq/driver-2629942993112615849\">Spark UI</a></p>\n",
       "\n",
       "            <dl>\n",
       "              <dt>Version</dt>\n",
       "                <dd><code>v3.5.0</code></dd>\n",
       "              <dt>Master</dt>\n",
       "                <dd><code>local[*, 4]</code></dd>\n",
       "              <dt>AppName</dt>\n",
       "                <dd><code>Databricks Shell</code></dd>\n",
       "            </dl>\n",
       "        </div>\n",
       "        \n",
       "            </div>\n",
       "        "
      ],
      "text/plain": [
       "<pyspark.sql.session.SparkSession at 0x7fe7cc08c590>"
      ]
     },
     "execution_count": 7,
     "metadata": {},
     "output_type": "execute_result"
    }
   ],
   "source": [
    "spark"
   ]
  },
  {
   "cell_type": "code",
   "execution_count": 0,
   "metadata": {
    "application/vnd.databricks.v1+cell": {
     "cellMetadata": {
      "byteLimit": 2048000,
      "rowLimit": 10000
     },
     "inputWidgets": {},
     "nuid": "de01d187-5c54-4360-989b-986066dc6931",
     "showTitle": false,
     "tableResultSettingsMap": {},
     "title": ""
    }
   },
   "outputs": [],
   "source": [
    "rawData = spark.read.format(\"csv\").option(\"header\", \"true\").option(\"inferSchema\", \"true\").load(\"/mnt/data-gcg/gcg-rawdata-1900-2023\")"
   ]
  },
  {
   "cell_type": "code",
   "execution_count": 0,
   "metadata": {
    "application/vnd.databricks.v1+cell": {
     "cellMetadata": {
      "byteLimit": 2048000,
      "rowLimit": 10000
     },
     "inputWidgets": {},
     "nuid": "432565a0-c136-491d-83db-c963b63aaa0d",
     "showTitle": false,
     "tableResultSettingsMap": {},
     "title": ""
    }
   },
   "outputs": [
    {
     "output_type": "stream",
     "name": "stdout",
     "output_type": "stream",
     "text": [
      "+----+-------------------------------+-----------------------+-------------------+-----------------------------+\n|Year|Global Average Temperature (°C)|CO2 Concentration (ppm)|Sea Level Rise (mm)|Arctic Ice Area (million km²)|\n+----+-------------------------------+-----------------------+-------------------+-----------------------------+\n|1948|                          13.17|                 397.04|             116.25|                         5.97|\n|1996|                           13.1|                 313.17|             277.92|                         9.66|\n|2015|                          14.67|                 311.95|             290.32|                          8.4|\n|1966|                          14.79|                 304.25|             189.71|                        11.83|\n|1992|                          13.15|                 354.52|              14.84|                        11.23|\n|1907|                          13.67|                  288.5|              22.37|                        11.82|\n|1999|                          15.63|                  350.7|              207.6|                         7.98|\n|1977|                          13.41|                 333.02|              71.45|                        10.03|\n|2013|                          14.21|                 358.54|             228.21|                         3.04|\n|1904|                          15.51|                 404.95|              75.88|                         13.7|\n|2011|                           15.8|                 383.53|             273.84|                         3.45|\n|1992|                          13.62|                 309.12|              78.94|                        14.52|\n|2014|                          14.28|                  402.5|              105.1|                        10.65|\n|1918|                           16.0|                 310.49|               8.05|                         5.24|\n|2006|                          13.57|                  373.7|               53.6|                         9.24|\n|1978|                          15.69|                 372.65|              151.7|                         9.52|\n|1903|                          15.61|                 302.82|              88.38|                         5.14|\n|2004|                          13.05|                 405.09|             133.81|                        12.59|\n|1965|                          15.16|                 345.42|             296.66|                          8.2|\n|1927|                          15.16|                 328.08|             169.34|                         9.98|\n+----+-------------------------------+-----------------------+-------------------+-----------------------------+\nonly showing top 20 rows\n\n"
     ]
    }
   ],
   "source": [
    "rawData.show()"
   ]
  },
  {
   "cell_type": "code",
   "execution_count": 0,
   "metadata": {
    "application/vnd.databricks.v1+cell": {
     "cellMetadata": {
      "byteLimit": 2048000,
      "rowLimit": 10000
     },
     "inputWidgets": {},
     "nuid": "7331fd96-8169-4ab1-b9c5-fe14e3cedd27",
     "showTitle": false,
     "tableResultSettingsMap": {},
     "title": ""
    }
   },
   "outputs": [
    {
     "output_type": "stream",
     "name": "stdout",
     "output_type": "stream",
     "text": [
      "root\n |-- Year: integer (nullable = true)\n |-- Global Average Temperature (°C): double (nullable = true)\n |-- CO2 Concentration (ppm): double (nullable = true)\n |-- Sea Level Rise (mm): double (nullable = true)\n |-- Arctic Ice Area (million km²): double (nullable = true)\n\n"
     ]
    }
   ],
   "source": [
    "rawData.printSchema()"
   ]
  },
  {
   "cell_type": "code",
   "execution_count": 0,
   "metadata": {
    "application/vnd.databricks.v1+cell": {
     "cellMetadata": {
      "byteLimit": 2048000,
      "rowLimit": 10000
     },
     "inputWidgets": {},
     "nuid": "fbe63926-1754-468e-81d4-847dcace3386",
     "showTitle": false,
     "tableResultSettingsMap": {},
     "title": ""
    }
   },
   "outputs": [
    {
     "output_type": "stream",
     "name": "stdout",
     "output_type": "stream",
     "text": [
      "+----+-------------------------------+-----------------------+-------------------+-----------------------------+\n|Year|Global Average Temperature (°C)|CO2 Concentration (ppm)|Sea Level Rise (mm)|Arctic Ice Area (million km²)|\n+----+-------------------------------+-----------------------+-------------------+-----------------------------+\n|   0|                              0|                      0|                  0|                            0|\n+----+-------------------------------+-----------------------+-------------------+-----------------------------+\n\n"
     ]
    }
   ],
   "source": [
    "rawData.select([count(when(isnan(c) | col(c).isNull(), c)).alias(c) for c in rawData.columns]\n",
    "   ).show()\n"
   ]
  },
  {
   "cell_type": "code",
   "execution_count": 0,
   "metadata": {
    "application/vnd.databricks.v1+cell": {
     "cellMetadata": {
      "byteLimit": 2048000,
      "rowLimit": 10000
     },
     "inputWidgets": {},
     "nuid": "1a18e1b1-ab56-4c3d-b830-c6dcf744ac29",
     "showTitle": false,
     "tableResultSettingsMap": {},
     "title": ""
    }
   },
   "outputs": [],
   "source": [
    "dataYear = rawData.orderBy(\"Year\")"
   ]
  },
  {
   "cell_type": "code",
   "execution_count": 0,
   "metadata": {
    "application/vnd.databricks.v1+cell": {
     "cellMetadata": {
      "byteLimit": 2048000,
      "rowLimit": 10000
     },
     "inputWidgets": {},
     "nuid": "3a2c6ba4-7916-4e42-8a29-af45d6a1a5c5",
     "showTitle": false,
     "tableResultSettingsMap": {},
     "title": ""
    }
   },
   "outputs": [
    {
     "output_type": "stream",
     "name": "stdout",
     "output_type": "stream",
     "text": [
      "+----+-------------------------------+-----------------------+-------------------+-----------------------------+------------------+\n|Year|Global Average Temperature (°C)|CO2 Concentration (ppm)|Sea Level Rise (mm)|Arctic Ice Area (million km²)|     YOYCo2 change|\n+----+-------------------------------+-----------------------+-------------------+-----------------------------+------------------+\n|1900|                          14.09|                 411.08|             257.38|                         5.59|            411.08|\n|1900|                          15.46|                 298.83|             298.92|                         6.94|           -112.25|\n|1900|                           15.6|                 386.69|             261.45|                         3.41| 87.86000000000001|\n|1900|                          15.39|                 402.74|             268.05|                        13.48| 16.05000000000001|\n|1900|                          15.97|                 318.59|             169.79|                         6.15|-84.15000000000003|\n+----+-------------------------------+-----------------------+-------------------+-----------------------------+------------------+\nonly showing top 5 rows\n\n"
     ]
    }
   ],
   "source": [
    "# Year over year change in CO2 concentration\n",
    "YOYCo2 = dataYear.withColumn(\"YOYCo2 change\", col(\"CO2 Concentration (ppm)\")- lag(\"CO2 Concentration (ppm)\", 1,0).over(Window.orderBy(\"Year\")))\n",
    "YOYCo2.show(5)"
   ]
  },
  {
   "cell_type": "code",
   "execution_count": 0,
   "metadata": {
    "application/vnd.databricks.v1+cell": {
     "cellMetadata": {
      "byteLimit": 2048000,
      "rowLimit": 10000
     },
     "inputWidgets": {},
     "nuid": "56dc202d-f16e-4fba-80cd-81944f8207df",
     "showTitle": false,
     "tableResultSettingsMap": {},
     "title": ""
    }
   },
   "outputs": [
    {
     "output_type": "stream",
     "name": "stdout",
     "output_type": "stream",
     "text": [
      "root\n |-- Year: integer (nullable = true)\n |-- Global Average Temperature (°C): double (nullable = true)\n |-- CO2 Concentration (ppm): double (nullable = true)\n |-- Sea Level Rise (mm): double (nullable = true)\n |-- Arctic Ice Area (million km²): double (nullable = true)\n |-- YOYCo2 change: double (nullable = true)\n\n"
     ]
    }
   ],
   "source": [
    "YOYCo2.printSchema()"
   ]
  },
  {
   "cell_type": "code",
   "execution_count": 0,
   "metadata": {
    "application/vnd.databricks.v1+cell": {
     "cellMetadata": {
      "byteLimit": 2048000,
      "rowLimit": 10000
     },
     "inputWidgets": {},
     "nuid": "1b17e395-8843-4497-a562-34cd91acf4b7",
     "showTitle": false,
     "tableResultSettingsMap": {},
     "title": ""
    }
   },
   "outputs": [
    {
     "output_type": "stream",
     "name": "stdout",
     "output_type": "stream",
     "text": [
      "+----+-------------------------------+-----------------------+-------------------+-----------------------------+-------------+\n|Year|Global Average Temperature (°C)|CO2 Concentration (ppm)|Sea Level Rise (mm)|Arctic Ice Area (million km²)|YOYCo2 change|\n+----+-------------------------------+-----------------------+-------------------+-----------------------------+-------------+\n|1900|                          14.09|                 411.08|             257.38|                         5.59|         NULL|\n|1900|                          15.46|                 298.83|             298.92|                         6.94|         -112|\n|1900|                           15.6|                 386.69|             261.45|                         3.41|           87|\n|1900|                          15.39|                 402.74|             268.05|                        13.48|           16|\n|1900|                          15.97|                 318.59|             169.79|                         6.15|          -84|\n+----+-------------------------------+-----------------------+-------------------+-----------------------------+-------------+\nonly showing top 5 rows\n\n"
     ]
    }
   ],
   "source": [
    "YOYCo2 = YOYCo2.withColumn(\"YOYCo2 change\", col(\"YOYCo2 change\").cast(\"int\"))\n",
    "YOYCo2.show(5)"
   ]
  },
  {
   "cell_type": "markdown",
   "metadata": {
    "application/vnd.databricks.v1+cell": {
     "cellMetadata": {},
     "inputWidgets": {},
     "nuid": "7fd3a116-9d87-4cd3-adf4-e0c5ca77631b",
     "showTitle": false,
     "tableResultSettingsMap": {},
     "title": ""
    }
   },
   "source": []
  }
 ],
 "metadata": {
  "application/vnd.databricks.v1+notebook": {
   "computePreferences": null,
   "dashboards": [],
   "environmentMetadata": {
    "base_environment": "",
    "client": "1"
   },
   "language": "python",
   "notebookMetadata": {
    "pythonIndentUnit": 4
   },
   "notebookName": "Data Transformation-gcg",
   "widgets": {}
  },
  "language_info": {
   "name": "python"
  }
 },
 "nbformat": 4,
 "nbformat_minor": 0
}